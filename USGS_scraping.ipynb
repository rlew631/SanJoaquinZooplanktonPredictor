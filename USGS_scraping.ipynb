{
 "metadata": {
  "language_info": {
   "codemirror_mode": {
    "name": "ipython",
    "version": 3
   },
   "file_extension": ".py",
   "mimetype": "text/x-python",
   "name": "python",
   "nbconvert_exporter": "python",
   "pygments_lexer": "ipython3",
   "version": 3
  },
  "orig_nbformat": 2
 },
 "nbformat": 4,
 "nbformat_minor": 2,
 "cells": [
  {
   "source": [
    "---\n",
    "\n",
    "Put something in the project about how loading the whole table at once was super inconvenient so the dates were made into variables which after putting in the url would allow small sections of the site to be viewed at once.\n",
    "\n",
    "---"
   ],
   "cell_type": "markdown",
   "metadata": {}
  },
  {
   "cell_type": "code",
   "execution_count": null,
   "metadata": {},
   "outputs": [],
   "source": [
    "import pandas as pd\n",
    "from datetime import datetime\n",
    "#import numpy as np\n",
    "\n",
    "from bs4 import BeautifulSoup\n",
    "from selenium import webdriver\n",
    "\n",
    "\n",
    "driver = webdriver.Chrome()\n",
    "\n",
    "#sample_url = 'http://nwis.waterdata.usgs.gov/ca/nwis/uv?cb_00010=on&cb_00300=on&cb_00400=on&cb_00480=on&cb_32295=on&cb_32316=on&cb_99133=on&format=html&site_no=11337190&period=&begin_date=2017-10-01&end_date=2018-07-06'\n",
    "main_url = 'http://nwis.waterdata.usgs.gov/ca/nwis/uv?cb_00010=on&cb_00300=on&cb_00400=on&cb_00480=on&cb_32295=on&cb_32316=on&cb_99133=on&format=html&site_no=11337190&period=&begin_date='\n",
    "\n",
    "begin_date = '2017-10-01'\n",
    "end_date = '2017-10-04'\n",
    "\n",
    "full_url = main_url + begin_date + '&end_date=' + end_date\n",
    "\n",
    "driver.get(full_url)\n",
    "soup = BeautifulSoup(driver.page_source, 'html.parser')"
   ]
  },
  {
   "cell_type": "code",
   "execution_count": null,
   "metadata": {},
   "outputs": [],
   "source": [
    "table = soup.find('table', class_='dataListWithSuperscript').find('tbody').find_all('tr', class_='ui-widget-content even')\n",
    "table_as_list = []\n",
    "\n",
    "for row in table:\n",
    "    rowlist = []\n",
    "    for item in row:\n",
    "        rowlist.append(item.text.strip())\n",
    "    rowlist[0] = datetime.strptime(rowlist[0][:16], '%m/%d/%Y %H:%M') \n",
    "    #date time has the timezone being stripped from it\n",
    "    table_as_list.append(rowlist)"
   ]
  },
  {
   "cell_type": "code",
   "execution_count": null,
   "metadata": {},
   "outputs": [],
   "source": [
    "columns = ['datetime','temp_c','PH','DO','nitrate_mg/l','chlorophyll','flourescence','salinity']\n",
    "df = pd.DataFrame(table_as_list, columns=columns)\n",
    "df"
   ]
  },
  {
   "cell_type": "code",
   "execution_count": null,
   "metadata": {},
   "outputs": [],
   "source": []
  }
 ]
}