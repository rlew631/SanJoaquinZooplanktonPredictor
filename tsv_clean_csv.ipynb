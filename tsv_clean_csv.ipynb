{
 "metadata": {
  "language_info": {
   "codemirror_mode": {
    "name": "ipython",
    "version": 3
   },
   "file_extension": ".py",
   "mimetype": "text/x-python",
   "name": "python",
   "nbconvert_exporter": "python",
   "pygments_lexer": "ipython3",
   "version": "3.8.2-final"
  },
  "orig_nbformat": 2,
  "kernelspec": {
   "name": "Python 3.8.2 64-bit ('miniconda3': virtualenv)",
   "display_name": "Python 3.8.2 64-bit ('miniconda3': virtualenv)",
   "metadata": {
    "interpreter": {
     "hash": "6a2daa968d601ee14b430a7e63a19881da4d01b4be29c938133619f4f0c27069"
    }
   }
  }
 },
 "nbformat": 4,
 "nbformat_minor": 2,
 "cells": [
  {
   "cell_type": "code",
   "execution_count": 1,
   "metadata": {},
   "outputs": [],
   "source": [
    "import pandas as pd\n",
    "import seaborn as sns"
   ]
  },
  {
   "cell_type": "code",
   "execution_count": 28,
   "metadata": {},
   "outputs": [],
   "source": [
    "#df = pd.read_csv('usgs.txt', sep='\\t')\n",
    "df = pd.read_table('usgs.txt')"
   ]
  },
  {
   "cell_type": "code",
   "execution_count": 29,
   "metadata": {},
   "outputs": [
    {
     "output_type": "execute_result",
     "data": {
      "text/plain": "           datetime 164023_00010 164024_00095 164025_00400 164026_00300 164028_63680 164034_99133 248718_32295 257814_00480 260064_00301\n1  2017-10-03 00:00  19.1         194          7.9          9.0          5.1          0.30         14.7         0.1          97         \n2  2017-10-03 00:15  19.1         199          7.9          8.9          4.9          0.30         14.7         0.1          96         \n3  2017-10-03 00:30  19.1         201          7.9          8.9          5.0          0.30         14.8         0.1          96         \n4  2017-10-03 00:45  19.2         211          7.9          8.9          5.4          0.30         15.0         0.1          97         \n5  2017-10-03 01:00  19.2         215          7.9          8.9          5.2          0.30         15.1         0.1          96         ",
      "text/html": "<div>\n<style scoped>\n    .dataframe tbody tr th:only-of-type {\n        vertical-align: middle;\n    }\n\n    .dataframe tbody tr th {\n        vertical-align: top;\n    }\n\n    .dataframe thead th {\n        text-align: right;\n    }\n</style>\n<table border=\"1\" class=\"dataframe\">\n  <thead>\n    <tr style=\"text-align: right;\">\n      <th></th>\n      <th>datetime</th>\n      <th>164023_00010</th>\n      <th>164024_00095</th>\n      <th>164025_00400</th>\n      <th>164026_00300</th>\n      <th>164028_63680</th>\n      <th>164034_99133</th>\n      <th>248718_32295</th>\n      <th>257814_00480</th>\n      <th>260064_00301</th>\n    </tr>\n  </thead>\n  <tbody>\n    <tr>\n      <th>1</th>\n      <td>2017-10-03 00:00</td>\n      <td>19.1</td>\n      <td>194</td>\n      <td>7.9</td>\n      <td>9.0</td>\n      <td>5.1</td>\n      <td>0.30</td>\n      <td>14.7</td>\n      <td>0.1</td>\n      <td>97</td>\n    </tr>\n    <tr>\n      <th>2</th>\n      <td>2017-10-03 00:15</td>\n      <td>19.1</td>\n      <td>199</td>\n      <td>7.9</td>\n      <td>8.9</td>\n      <td>4.9</td>\n      <td>0.30</td>\n      <td>14.7</td>\n      <td>0.1</td>\n      <td>96</td>\n    </tr>\n    <tr>\n      <th>3</th>\n      <td>2017-10-03 00:30</td>\n      <td>19.1</td>\n      <td>201</td>\n      <td>7.9</td>\n      <td>8.9</td>\n      <td>5.0</td>\n      <td>0.30</td>\n      <td>14.8</td>\n      <td>0.1</td>\n      <td>96</td>\n    </tr>\n    <tr>\n      <th>4</th>\n      <td>2017-10-03 00:45</td>\n      <td>19.2</td>\n      <td>211</td>\n      <td>7.9</td>\n      <td>8.9</td>\n      <td>5.4</td>\n      <td>0.30</td>\n      <td>15.0</td>\n      <td>0.1</td>\n      <td>97</td>\n    </tr>\n    <tr>\n      <th>5</th>\n      <td>2017-10-03 01:00</td>\n      <td>19.2</td>\n      <td>215</td>\n      <td>7.9</td>\n      <td>8.9</td>\n      <td>5.2</td>\n      <td>0.30</td>\n      <td>15.1</td>\n      <td>0.1</td>\n      <td>96</td>\n    </tr>\n  </tbody>\n</table>\n</div>"
     },
     "metadata": {},
     "execution_count": 29
    }
   ],
   "source": [
    "for label in df.columns:\n",
    "    label = label.strip()\n",
    "df.drop(columns=['agency_cd','site_no','tz_cd','164023_00010_cd','164024_00095_cd','164025_00400_cd','164034_99133_cd','248715_32316_cd','248718_32295_cd','257814_00480_cd','260064_00301_cd','164026_00300_cd','164028_63680_cd','248715_32316'],inplace = True)\n",
    "df.drop([0],inplace = True)\n",
    "pd.option_context('display.max_columns', None)\n",
    "pd.set_option('display.expand_frame_repr', False)\n",
    "pd.set_option('max_colwidth', -1)\n",
    "df.head()"
   ]
  },
  {
   "cell_type": "code",
   "execution_count": 30,
   "metadata": {},
   "outputs": [
    {
     "output_type": "execute_result",
     "data": {
      "text/plain": "     datetime 164023_00010 164024_00095 164025_00400 164026_00300 164028_63680 164034_99133 248718_32295 257814_00480 260064_00301\n1  2017-10-03  19.1         194          7.9          9.0          5.1          0.30         14.7         0.1          97         \n2  2017-10-03  19.1         199          7.9          8.9          4.9          0.30         14.7         0.1          96         \n3  2017-10-03  19.1         201          7.9          8.9          5.0          0.30         14.8         0.1          96         \n4  2017-10-03  19.2         211          7.9          8.9          5.4          0.30         15.0         0.1          97         \n5  2017-10-03  19.2         215          7.9          8.9          5.2          0.30         15.1         0.1          96         ",
      "text/html": "<div>\n<style scoped>\n    .dataframe tbody tr th:only-of-type {\n        vertical-align: middle;\n    }\n\n    .dataframe tbody tr th {\n        vertical-align: top;\n    }\n\n    .dataframe thead th {\n        text-align: right;\n    }\n</style>\n<table border=\"1\" class=\"dataframe\">\n  <thead>\n    <tr style=\"text-align: right;\">\n      <th></th>\n      <th>datetime</th>\n      <th>164023_00010</th>\n      <th>164024_00095</th>\n      <th>164025_00400</th>\n      <th>164026_00300</th>\n      <th>164028_63680</th>\n      <th>164034_99133</th>\n      <th>248718_32295</th>\n      <th>257814_00480</th>\n      <th>260064_00301</th>\n    </tr>\n  </thead>\n  <tbody>\n    <tr>\n      <th>1</th>\n      <td>2017-10-03</td>\n      <td>19.1</td>\n      <td>194</td>\n      <td>7.9</td>\n      <td>9.0</td>\n      <td>5.1</td>\n      <td>0.30</td>\n      <td>14.7</td>\n      <td>0.1</td>\n      <td>97</td>\n    </tr>\n    <tr>\n      <th>2</th>\n      <td>2017-10-03</td>\n      <td>19.1</td>\n      <td>199</td>\n      <td>7.9</td>\n      <td>8.9</td>\n      <td>4.9</td>\n      <td>0.30</td>\n      <td>14.7</td>\n      <td>0.1</td>\n      <td>96</td>\n    </tr>\n    <tr>\n      <th>3</th>\n      <td>2017-10-03</td>\n      <td>19.1</td>\n      <td>201</td>\n      <td>7.9</td>\n      <td>8.9</td>\n      <td>5.0</td>\n      <td>0.30</td>\n      <td>14.8</td>\n      <td>0.1</td>\n      <td>96</td>\n    </tr>\n    <tr>\n      <th>4</th>\n      <td>2017-10-03</td>\n      <td>19.2</td>\n      <td>211</td>\n      <td>7.9</td>\n      <td>8.9</td>\n      <td>5.4</td>\n      <td>0.30</td>\n      <td>15.0</td>\n      <td>0.1</td>\n      <td>97</td>\n    </tr>\n    <tr>\n      <th>5</th>\n      <td>2017-10-03</td>\n      <td>19.2</td>\n      <td>215</td>\n      <td>7.9</td>\n      <td>8.9</td>\n      <td>5.2</td>\n      <td>0.30</td>\n      <td>15.1</td>\n      <td>0.1</td>\n      <td>96</td>\n    </tr>\n  </tbody>\n</table>\n</div>"
     },
     "metadata": {},
     "execution_count": 30
    }
   ],
   "source": [
    "df.datetime = df.datetime.apply(lambda x : x[:10])\n",
    "df.head()"
   ]
  },
  {
   "cell_type": "code",
   "execution_count": 31,
   "metadata": {},
   "outputs": [],
   "source": [
    "for column in list(df.columns)[1:]:\n",
    "        df[column] = df[column].astype(float)"
   ]
  },
  {
   "cell_type": "code",
   "execution_count": 36,
   "metadata": {},
   "outputs": [],
   "source": [
    "df.columns = ['datetime', 'temp_c', 'specific_conductance','ph','dissolved_o2_mg_l','turbidity','nitrate_nitrite','organic_matter','salinity','dissolved_o2_percent_sat']"
   ]
  },
  {
   "cell_type": "code",
   "execution_count": 38,
   "metadata": {},
   "outputs": [],
   "source": [
    "df.groupby(['datetime']).mean().to_csv('20mm_daily.csv')"
   ]
  },
  {
   "cell_type": "code",
   "execution_count": null,
   "metadata": {},
   "outputs": [],
   "source": []
  }
 ]
}