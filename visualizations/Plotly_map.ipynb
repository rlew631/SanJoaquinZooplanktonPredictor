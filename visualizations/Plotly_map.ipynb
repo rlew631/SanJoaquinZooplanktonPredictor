{
 "cells": [
  {
   "cell_type": "markdown",
   "metadata": {},
   "source": [
    "A lot of dataframe massaging was done by repeatedly running cells to get the desired graph output. Probably needs a few tweaks to be able to run it the whole way through. Also might need to be updated to show which stations were chosen in the end or include alll of the usgs sites which were (mostly) useless"
   ]
  },
  {
   "cell_type": "code",
   "execution_count": 28,
   "metadata": {},
   "outputs": [],
   "source": [
    "import pandas as pd\n",
    "import plotly.express as px\n",
    "import plotly.graph_objects as go\n",
    "import numpy as np"
   ]
  },
  {
   "cell_type": "code",
   "execution_count": 3,
   "metadata": {},
   "outputs": [],
   "source": [
    "zoo_df = pd.read_csv('zooplankton/station_lookup_trimmed.csv')"
   ]
  },
  {
   "cell_type": "code",
   "execution_count": 4,
   "metadata": {},
   "outputs": [
    {
     "data": {
      "text/html": [
       "<div>\n",
       "<style scoped>\n",
       "    .dataframe tbody tr th:only-of-type {\n",
       "        vertical-align: middle;\n",
       "    }\n",
       "\n",
       "    .dataframe tbody tr th {\n",
       "        vertical-align: top;\n",
       "    }\n",
       "\n",
       "    .dataframe thead th {\n",
       "        text-align: right;\n",
       "    }\n",
       "</style>\n",
       "<table border=\"1\" class=\"dataframe\">\n",
       "  <thead>\n",
       "    <tr style=\"text-align: right;\">\n",
       "      <th></th>\n",
       "      <th>Unnamed: 0</th>\n",
       "      <th>StationNZ</th>\n",
       "      <th>Location</th>\n",
       "      <th>lat_decimal</th>\n",
       "      <th>lon_decimal</th>\n",
       "    </tr>\n",
       "  </thead>\n",
       "  <tbody>\n",
       "    <tr>\n",
       "      <th>0</th>\n",
       "      <td>0</td>\n",
       "      <td>NZ002</td>\n",
       "      <td>Carquinez Strait at Glencove Harbor.</td>\n",
       "      <td>38.0603</td>\n",
       "      <td>-122.2069</td>\n",
       "    </tr>\n",
       "    <tr>\n",
       "      <th>1</th>\n",
       "      <td>2</td>\n",
       "      <td>NZ004</td>\n",
       "      <td>Carquinez Strait 46 m - 91 m off Ozol pier.</td>\n",
       "      <td>38.0292</td>\n",
       "      <td>-122.1583</td>\n",
       "    </tr>\n",
       "    <tr>\n",
       "      <th>2</th>\n",
       "      <td>7</td>\n",
       "      <td>NZ028</td>\n",
       "      <td>Grizzly Bay SE of Dolphin near Suisun Slough.</td>\n",
       "      <td>38.1172</td>\n",
       "      <td>-122.0472</td>\n",
       "    </tr>\n",
       "    <tr>\n",
       "      <th>3</th>\n",
       "      <td>9</td>\n",
       "      <td>NZ032</td>\n",
       "      <td>Montezuma Slough 2nd bend from mouth.</td>\n",
       "      <td>38.1703</td>\n",
       "      <td>-122.0208</td>\n",
       "    </tr>\n",
       "    <tr>\n",
       "      <th>4</th>\n",
       "      <td>18</td>\n",
       "      <td>NZ048</td>\n",
       "      <td>Suisun Bay channel, off Middle Point (upstrm o...</td>\n",
       "      <td>38.0600</td>\n",
       "      <td>-121.9958</td>\n",
       "    </tr>\n",
       "  </tbody>\n",
       "</table>\n",
       "</div>"
      ],
      "text/plain": [
       "   Unnamed: 0 StationNZ                                           Location  \\\n",
       "0           0     NZ002               Carquinez Strait at Glencove Harbor.   \n",
       "1           2     NZ004        Carquinez Strait 46 m - 91 m off Ozol pier.   \n",
       "2           7     NZ028      Grizzly Bay SE of Dolphin near Suisun Slough.   \n",
       "3           9     NZ032              Montezuma Slough 2nd bend from mouth.   \n",
       "4          18     NZ048  Suisun Bay channel, off Middle Point (upstrm o...   \n",
       "\n",
       "   lat_decimal  lon_decimal  \n",
       "0      38.0603    -122.2069  \n",
       "1      38.0292    -122.1583  \n",
       "2      38.1172    -122.0472  \n",
       "3      38.1703    -122.0208  \n",
       "4      38.0600    -121.9958  "
      ]
     },
     "execution_count": 4,
     "metadata": {},
     "output_type": "execute_result"
    }
   ],
   "source": [
    "zoo_df.head()"
   ]
  },
  {
   "cell_type": "code",
   "execution_count": 33,
   "metadata": {},
   "outputs": [
    {
     "data": {
      "text/html": [
       "<div>\n",
       "<style scoped>\n",
       "    .dataframe tbody tr th:only-of-type {\n",
       "        vertical-align: middle;\n",
       "    }\n",
       "\n",
       "    .dataframe tbody tr th {\n",
       "        vertical-align: top;\n",
       "    }\n",
       "\n",
       "    .dataframe thead th {\n",
       "        text-align: right;\n",
       "    }\n",
       "</style>\n",
       "<table border=\"1\" class=\"dataframe\">\n",
       "  <thead>\n",
       "    <tr style=\"text-align: right;\">\n",
       "      <th></th>\n",
       "      <th>lat</th>\n",
       "      <th>lon</th>\n",
       "      <th>usgs_or_plankton</th>\n",
       "      <th>Location</th>\n",
       "    </tr>\n",
       "  </thead>\n",
       "  <tbody>\n",
       "    <tr>\n",
       "      <th>0</th>\n",
       "      <td>38.05222°</td>\n",
       "      <td>121.6878°</td>\n",
       "      <td>usgs</td>\n",
       "      <td>station1</td>\n",
       "    </tr>\n",
       "    <tr>\n",
       "      <th>1</th>\n",
       "      <td>38.09333°</td>\n",
       "      <td>121.7361°</td>\n",
       "      <td>usgs</td>\n",
       "      <td>station2</td>\n",
       "    </tr>\n",
       "    <tr>\n",
       "      <th>2</th>\n",
       "      <td>38.04953°</td>\n",
       "      <td>121.8876°</td>\n",
       "      <td>usgs</td>\n",
       "      <td>station3</td>\n",
       "    </tr>\n",
       "    <tr>\n",
       "      <th>3</th>\n",
       "      <td>38.045°</td>\n",
       "      <td>122.1256°</td>\n",
       "      <td>usgs</td>\n",
       "      <td>station4</td>\n",
       "    </tr>\n",
       "    <tr>\n",
       "      <th>4</th>\n",
       "      <td>38.10853°</td>\n",
       "      <td>122.056°</td>\n",
       "      <td>usgs</td>\n",
       "      <td>station5</td>\n",
       "    </tr>\n",
       "  </tbody>\n",
       "</table>\n",
       "</div>"
      ],
      "text/plain": [
       "         lat        lon usgs_or_plankton  Location\n",
       "0  38.05222°  121.6878°             usgs  station1\n",
       "1  38.09333°  121.7361°             usgs  station2\n",
       "2  38.04953°  121.8876°             usgs  station3\n",
       "3    38.045°  122.1256°             usgs  station4\n",
       "4  38.10853°   122.056°             usgs  station5"
      ]
     },
     "execution_count": 33,
     "metadata": {},
     "output_type": "execute_result"
    }
   ],
   "source": [
    "usgs = pd.read_csv('usgs/usgs_locations.csv')\n",
    "usgs = usgs[['Station','lat','lon']]\n",
    "station_name_placeholders = ['station1','station2','station3','station4','station5']\n",
    "usgs.Station = station_name_placeholders\n",
    "usgs['usgs_or_plankton'] = 'usgs'\n",
    "usgs['Location'] = usgs['Station']\n",
    "usgs.drop(columns = ['Station'], inplace = True)\n",
    "usgs.head()"
   ]
  },
  {
   "cell_type": "code",
   "execution_count": 34,
   "metadata": {},
   "outputs": [
    {
     "data": {
      "text/html": [
       "<div>\n",
       "<style scoped>\n",
       "    .dataframe tbody tr th:only-of-type {\n",
       "        vertical-align: middle;\n",
       "    }\n",
       "\n",
       "    .dataframe tbody tr th {\n",
       "        vertical-align: top;\n",
       "    }\n",
       "\n",
       "    .dataframe thead th {\n",
       "        text-align: right;\n",
       "    }\n",
       "</style>\n",
       "<table border=\"1\" class=\"dataframe\">\n",
       "  <thead>\n",
       "    <tr style=\"text-align: right;\">\n",
       "      <th></th>\n",
       "      <th>lat</th>\n",
       "      <th>lon</th>\n",
       "      <th>usgs_or_plankton</th>\n",
       "      <th>Location</th>\n",
       "    </tr>\n",
       "  </thead>\n",
       "  <tbody>\n",
       "    <tr>\n",
       "      <th>0</th>\n",
       "      <td>38.05222</td>\n",
       "      <td>121.6878</td>\n",
       "      <td>usgs</td>\n",
       "      <td>station1</td>\n",
       "    </tr>\n",
       "    <tr>\n",
       "      <th>1</th>\n",
       "      <td>38.09333</td>\n",
       "      <td>121.7361</td>\n",
       "      <td>usgs</td>\n",
       "      <td>station2</td>\n",
       "    </tr>\n",
       "    <tr>\n",
       "      <th>2</th>\n",
       "      <td>38.04953</td>\n",
       "      <td>121.8876</td>\n",
       "      <td>usgs</td>\n",
       "      <td>station3</td>\n",
       "    </tr>\n",
       "    <tr>\n",
       "      <th>3</th>\n",
       "      <td>38.045</td>\n",
       "      <td>122.1256</td>\n",
       "      <td>usgs</td>\n",
       "      <td>station4</td>\n",
       "    </tr>\n",
       "    <tr>\n",
       "      <th>4</th>\n",
       "      <td>38.10853</td>\n",
       "      <td>122.056</td>\n",
       "      <td>usgs</td>\n",
       "      <td>station5</td>\n",
       "    </tr>\n",
       "  </tbody>\n",
       "</table>\n",
       "</div>"
      ],
      "text/plain": [
       "        lat       lon usgs_or_plankton  Location\n",
       "0  38.05222  121.6878             usgs  station1\n",
       "1  38.09333  121.7361             usgs  station2\n",
       "2  38.04953  121.8876             usgs  station3\n",
       "3    38.045  122.1256             usgs  station4\n",
       "4  38.10853   122.056             usgs  station5"
      ]
     },
     "execution_count": 34,
     "metadata": {},
     "output_type": "execute_result"
    }
   ],
   "source": [
    "usgs.lat = [entry[:-1] for entry in usgs.lat]\n",
    "usgs.lon = [entry[:-1] for entry in usgs.lon]\n",
    "usgs.head()"
   ]
  },
  {
   "cell_type": "code",
   "execution_count": 19,
   "metadata": {},
   "outputs": [
    {
     "data": {
      "text/html": [
       "<div>\n",
       "<style scoped>\n",
       "    .dataframe tbody tr th:only-of-type {\n",
       "        vertical-align: middle;\n",
       "    }\n",
       "\n",
       "    .dataframe tbody tr th {\n",
       "        vertical-align: top;\n",
       "    }\n",
       "\n",
       "    .dataframe thead th {\n",
       "        text-align: right;\n",
       "    }\n",
       "</style>\n",
       "<table border=\"1\" class=\"dataframe\">\n",
       "  <thead>\n",
       "    <tr style=\"text-align: right;\">\n",
       "      <th></th>\n",
       "      <th>Location</th>\n",
       "      <th>lat</th>\n",
       "      <th>lon</th>\n",
       "      <th>usgs_or_plankton</th>\n",
       "    </tr>\n",
       "  </thead>\n",
       "  <tbody>\n",
       "    <tr>\n",
       "      <th>0</th>\n",
       "      <td>Carquinez Strait at Glencove Harbor.</td>\n",
       "      <td>38.0603</td>\n",
       "      <td>-122.2069</td>\n",
       "      <td>plankton</td>\n",
       "    </tr>\n",
       "    <tr>\n",
       "      <th>1</th>\n",
       "      <td>Carquinez Strait 46 m - 91 m off Ozol pier.</td>\n",
       "      <td>38.0292</td>\n",
       "      <td>-122.1583</td>\n",
       "      <td>plankton</td>\n",
       "    </tr>\n",
       "    <tr>\n",
       "      <th>2</th>\n",
       "      <td>Grizzly Bay SE of Dolphin near Suisun Slough.</td>\n",
       "      <td>38.1172</td>\n",
       "      <td>-122.0472</td>\n",
       "      <td>plankton</td>\n",
       "    </tr>\n",
       "    <tr>\n",
       "      <th>3</th>\n",
       "      <td>Montezuma Slough 2nd bend from mouth.</td>\n",
       "      <td>38.1703</td>\n",
       "      <td>-122.0208</td>\n",
       "      <td>plankton</td>\n",
       "    </tr>\n",
       "    <tr>\n",
       "      <th>4</th>\n",
       "      <td>Suisun Bay channel, off Middle Point (upstrm o...</td>\n",
       "      <td>38.0600</td>\n",
       "      <td>-121.9958</td>\n",
       "      <td>plankton</td>\n",
       "    </tr>\n",
       "  </tbody>\n",
       "</table>\n",
       "</div>"
      ],
      "text/plain": [
       "                                            Location      lat       lon  \\\n",
       "0               Carquinez Strait at Glencove Harbor.  38.0603 -122.2069   \n",
       "1        Carquinez Strait 46 m - 91 m off Ozol pier.  38.0292 -122.1583   \n",
       "2      Grizzly Bay SE of Dolphin near Suisun Slough.  38.1172 -122.0472   \n",
       "3              Montezuma Slough 2nd bend from mouth.  38.1703 -122.0208   \n",
       "4  Suisun Bay channel, off Middle Point (upstrm o...  38.0600 -121.9958   \n",
       "\n",
       "  usgs_or_plankton  \n",
       "0         plankton  \n",
       "1         plankton  \n",
       "2         plankton  \n",
       "3         plankton  \n",
       "4         plankton  "
      ]
     },
     "execution_count": 19,
     "metadata": {},
     "output_type": "execute_result"
    }
   ],
   "source": [
    "#zoo_df['lat'] = zoo_df['lat_decimal']\n",
    "#zoo_df['lon'] = zoo_df['lon_decimal']\n",
    "#zoo_df.drop(columns = ['lat_decimal','lon_decimal','Unnamed: 0', 'StationNZ'], inplace = True)\n",
    "zoo_df['usgs_or_plankton'] = 'plankton'\n",
    "zoo_df.head()"
   ]
  },
  {
   "cell_type": "code",
   "execution_count": 35,
   "metadata": {},
   "outputs": [],
   "source": [
    "df = pd.concat([usgs, zoo_df], axis=0)"
   ]
  },
  {
   "cell_type": "code",
   "execution_count": 36,
   "metadata": {},
   "outputs": [
    {
     "data": {
      "text/html": [
       "<div>\n",
       "<style scoped>\n",
       "    .dataframe tbody tr th:only-of-type {\n",
       "        vertical-align: middle;\n",
       "    }\n",
       "\n",
       "    .dataframe tbody tr th {\n",
       "        vertical-align: top;\n",
       "    }\n",
       "\n",
       "    .dataframe thead th {\n",
       "        text-align: right;\n",
       "    }\n",
       "</style>\n",
       "<table border=\"1\" class=\"dataframe\">\n",
       "  <thead>\n",
       "    <tr style=\"text-align: right;\">\n",
       "      <th></th>\n",
       "      <th>lat</th>\n",
       "      <th>lon</th>\n",
       "      <th>usgs_or_plankton</th>\n",
       "      <th>Location</th>\n",
       "    </tr>\n",
       "  </thead>\n",
       "  <tbody>\n",
       "    <tr>\n",
       "      <th>0</th>\n",
       "      <td>38.05222</td>\n",
       "      <td>121.6878</td>\n",
       "      <td>usgs</td>\n",
       "      <td>station1</td>\n",
       "    </tr>\n",
       "    <tr>\n",
       "      <th>1</th>\n",
       "      <td>38.09333</td>\n",
       "      <td>121.7361</td>\n",
       "      <td>usgs</td>\n",
       "      <td>station2</td>\n",
       "    </tr>\n",
       "    <tr>\n",
       "      <th>2</th>\n",
       "      <td>38.04953</td>\n",
       "      <td>121.8876</td>\n",
       "      <td>usgs</td>\n",
       "      <td>station3</td>\n",
       "    </tr>\n",
       "    <tr>\n",
       "      <th>3</th>\n",
       "      <td>38.045</td>\n",
       "      <td>122.1256</td>\n",
       "      <td>usgs</td>\n",
       "      <td>station4</td>\n",
       "    </tr>\n",
       "    <tr>\n",
       "      <th>4</th>\n",
       "      <td>38.10853</td>\n",
       "      <td>122.056</td>\n",
       "      <td>usgs</td>\n",
       "      <td>station5</td>\n",
       "    </tr>\n",
       "    <tr>\n",
       "      <th>0</th>\n",
       "      <td>38.0603</td>\n",
       "      <td>-122.207</td>\n",
       "      <td>plankton</td>\n",
       "      <td>Carquinez Strait at Glencove Harbor.</td>\n",
       "    </tr>\n",
       "    <tr>\n",
       "      <th>1</th>\n",
       "      <td>38.0292</td>\n",
       "      <td>-122.158</td>\n",
       "      <td>plankton</td>\n",
       "      <td>Carquinez Strait 46 m - 91 m off Ozol pier.</td>\n",
       "    </tr>\n",
       "    <tr>\n",
       "      <th>2</th>\n",
       "      <td>38.1172</td>\n",
       "      <td>-122.047</td>\n",
       "      <td>plankton</td>\n",
       "      <td>Grizzly Bay SE of Dolphin near Suisun Slough.</td>\n",
       "    </tr>\n",
       "    <tr>\n",
       "      <th>3</th>\n",
       "      <td>38.1703</td>\n",
       "      <td>-122.021</td>\n",
       "      <td>plankton</td>\n",
       "      <td>Montezuma Slough 2nd bend from mouth.</td>\n",
       "    </tr>\n",
       "    <tr>\n",
       "      <th>4</th>\n",
       "      <td>38.06</td>\n",
       "      <td>-121.996</td>\n",
       "      <td>plankton</td>\n",
       "      <td>Suisun Bay channel, off Middle Point (upstrm o...</td>\n",
       "    </tr>\n",
       "  </tbody>\n",
       "</table>\n",
       "</div>"
      ],
      "text/plain": [
       "        lat       lon usgs_or_plankton  \\\n",
       "0  38.05222  121.6878             usgs   \n",
       "1  38.09333  121.7361             usgs   \n",
       "2  38.04953  121.8876             usgs   \n",
       "3    38.045  122.1256             usgs   \n",
       "4  38.10853   122.056             usgs   \n",
       "0   38.0603  -122.207         plankton   \n",
       "1   38.0292  -122.158         plankton   \n",
       "2   38.1172  -122.047         plankton   \n",
       "3   38.1703  -122.021         plankton   \n",
       "4     38.06  -121.996         plankton   \n",
       "\n",
       "                                            Location  \n",
       "0                                           station1  \n",
       "1                                           station2  \n",
       "2                                           station3  \n",
       "3                                           station4  \n",
       "4                                           station5  \n",
       "0               Carquinez Strait at Glencove Harbor.  \n",
       "1        Carquinez Strait 46 m - 91 m off Ozol pier.  \n",
       "2      Grizzly Bay SE of Dolphin near Suisun Slough.  \n",
       "3              Montezuma Slough 2nd bend from mouth.  \n",
       "4  Suisun Bay channel, off Middle Point (upstrm o...  "
      ]
     },
     "execution_count": 36,
     "metadata": {},
     "output_type": "execute_result"
    }
   ],
   "source": [
    "df.head(10)"
   ]
  },
  {
   "cell_type": "code",
   "execution_count": 75,
   "metadata": {},
   "outputs": [],
   "source": [
    "df.lon = -np.abs(df.lon.astype(float))"
   ]
  },
  {
   "cell_type": "code",
   "execution_count": 43,
   "metadata": {},
   "outputs": [],
   "source": [
    "df.reset_index(inplace = True)"
   ]
  },
  {
   "cell_type": "code",
   "execution_count": 44,
   "metadata": {},
   "outputs": [
    {
     "data": {
      "text/html": [
       "<div>\n",
       "<style scoped>\n",
       "    .dataframe tbody tr th:only-of-type {\n",
       "        vertical-align: middle;\n",
       "    }\n",
       "\n",
       "    .dataframe tbody tr th {\n",
       "        vertical-align: top;\n",
       "    }\n",
       "\n",
       "    .dataframe thead th {\n",
       "        text-align: right;\n",
       "    }\n",
       "</style>\n",
       "<table border=\"1\" class=\"dataframe\">\n",
       "  <thead>\n",
       "    <tr style=\"text-align: right;\">\n",
       "      <th></th>\n",
       "      <th>index</th>\n",
       "      <th>lat</th>\n",
       "      <th>lon</th>\n",
       "      <th>usgs_or_plankton</th>\n",
       "      <th>Location</th>\n",
       "    </tr>\n",
       "  </thead>\n",
       "  <tbody>\n",
       "    <tr>\n",
       "      <th>0</th>\n",
       "      <td>0</td>\n",
       "      <td>38.05222</td>\n",
       "      <td>121.6878</td>\n",
       "      <td>usgs</td>\n",
       "      <td>station1</td>\n",
       "    </tr>\n",
       "    <tr>\n",
       "      <th>1</th>\n",
       "      <td>1</td>\n",
       "      <td>38.09333</td>\n",
       "      <td>121.7361</td>\n",
       "      <td>usgs</td>\n",
       "      <td>station2</td>\n",
       "    </tr>\n",
       "    <tr>\n",
       "      <th>2</th>\n",
       "      <td>2</td>\n",
       "      <td>38.04953</td>\n",
       "      <td>121.8876</td>\n",
       "      <td>usgs</td>\n",
       "      <td>station3</td>\n",
       "    </tr>\n",
       "    <tr>\n",
       "      <th>3</th>\n",
       "      <td>3</td>\n",
       "      <td>38.045</td>\n",
       "      <td>122.1256</td>\n",
       "      <td>usgs</td>\n",
       "      <td>station4</td>\n",
       "    </tr>\n",
       "    <tr>\n",
       "      <th>4</th>\n",
       "      <td>4</td>\n",
       "      <td>38.10853</td>\n",
       "      <td>122.0560</td>\n",
       "      <td>usgs</td>\n",
       "      <td>station5</td>\n",
       "    </tr>\n",
       "    <tr>\n",
       "      <th>5</th>\n",
       "      <td>0</td>\n",
       "      <td>38.0603</td>\n",
       "      <td>122.2069</td>\n",
       "      <td>plankton</td>\n",
       "      <td>Carquinez Strait at Glencove Harbor.</td>\n",
       "    </tr>\n",
       "    <tr>\n",
       "      <th>6</th>\n",
       "      <td>1</td>\n",
       "      <td>38.0292</td>\n",
       "      <td>122.1583</td>\n",
       "      <td>plankton</td>\n",
       "      <td>Carquinez Strait 46 m - 91 m off Ozol pier.</td>\n",
       "    </tr>\n",
       "    <tr>\n",
       "      <th>7</th>\n",
       "      <td>2</td>\n",
       "      <td>38.1172</td>\n",
       "      <td>122.0472</td>\n",
       "      <td>plankton</td>\n",
       "      <td>Grizzly Bay SE of Dolphin near Suisun Slough.</td>\n",
       "    </tr>\n",
       "    <tr>\n",
       "      <th>8</th>\n",
       "      <td>3</td>\n",
       "      <td>38.1703</td>\n",
       "      <td>122.0208</td>\n",
       "      <td>plankton</td>\n",
       "      <td>Montezuma Slough 2nd bend from mouth.</td>\n",
       "    </tr>\n",
       "    <tr>\n",
       "      <th>9</th>\n",
       "      <td>4</td>\n",
       "      <td>38.06</td>\n",
       "      <td>121.9958</td>\n",
       "      <td>plankton</td>\n",
       "      <td>Suisun Bay channel, off Middle Point (upstrm o...</td>\n",
       "    </tr>\n",
       "  </tbody>\n",
       "</table>\n",
       "</div>"
      ],
      "text/plain": [
       "   index       lat       lon usgs_or_plankton  \\\n",
       "0      0  38.05222  121.6878             usgs   \n",
       "1      1  38.09333  121.7361             usgs   \n",
       "2      2  38.04953  121.8876             usgs   \n",
       "3      3    38.045  122.1256             usgs   \n",
       "4      4  38.10853  122.0560             usgs   \n",
       "5      0   38.0603  122.2069         plankton   \n",
       "6      1   38.0292  122.1583         plankton   \n",
       "7      2   38.1172  122.0472         plankton   \n",
       "8      3   38.1703  122.0208         plankton   \n",
       "9      4     38.06  121.9958         plankton   \n",
       "\n",
       "                                            Location  \n",
       "0                                           station1  \n",
       "1                                           station2  \n",
       "2                                           station3  \n",
       "3                                           station4  \n",
       "4                                           station5  \n",
       "5               Carquinez Strait at Glencove Harbor.  \n",
       "6        Carquinez Strait 46 m - 91 m off Ozol pier.  \n",
       "7      Grizzly Bay SE of Dolphin near Suisun Slough.  \n",
       "8              Montezuma Slough 2nd bend from mouth.  \n",
       "9  Suisun Bay channel, off Middle Point (upstrm o...  "
      ]
     },
     "execution_count": 44,
     "metadata": {},
     "output_type": "execute_result"
    }
   ],
   "source": [
    "df.head(10)"
   ]
  },
  {
   "cell_type": "code",
   "execution_count": 79,
   "metadata": {},
   "outputs": [],
   "source": [
    "df.lat = df.lat.astype(float)\n",
    "df.lon = df.lon.astype(float)"
   ]
  },
  {
   "cell_type": "code",
   "execution_count": 50,
   "metadata": {},
   "outputs": [
    {
     "data": {
      "text/html": [
       "<div>\n",
       "<style scoped>\n",
       "    .dataframe tbody tr th:only-of-type {\n",
       "        vertical-align: middle;\n",
       "    }\n",
       "\n",
       "    .dataframe tbody tr th {\n",
       "        vertical-align: top;\n",
       "    }\n",
       "\n",
       "    .dataframe thead th {\n",
       "        text-align: right;\n",
       "    }\n",
       "</style>\n",
       "<table border=\"1\" class=\"dataframe\">\n",
       "  <thead>\n",
       "    <tr style=\"text-align: right;\">\n",
       "      <th></th>\n",
       "      <th>index</th>\n",
       "      <th>lat</th>\n",
       "      <th>lon</th>\n",
       "      <th>usgs_or_plankton</th>\n",
       "      <th>Location</th>\n",
       "    </tr>\n",
       "  </thead>\n",
       "  <tbody>\n",
       "    <tr>\n",
       "      <th>0</th>\n",
       "      <td>0</td>\n",
       "      <td>38.05222</td>\n",
       "      <td>121.6878</td>\n",
       "      <td>usgs</td>\n",
       "      <td>station1</td>\n",
       "    </tr>\n",
       "    <tr>\n",
       "      <th>1</th>\n",
       "      <td>1</td>\n",
       "      <td>38.09333</td>\n",
       "      <td>121.7361</td>\n",
       "      <td>usgs</td>\n",
       "      <td>station2</td>\n",
       "    </tr>\n",
       "    <tr>\n",
       "      <th>2</th>\n",
       "      <td>2</td>\n",
       "      <td>38.04953</td>\n",
       "      <td>121.8876</td>\n",
       "      <td>usgs</td>\n",
       "      <td>station3</td>\n",
       "    </tr>\n",
       "    <tr>\n",
       "      <th>3</th>\n",
       "      <td>3</td>\n",
       "      <td>38.04500</td>\n",
       "      <td>122.1256</td>\n",
       "      <td>usgs</td>\n",
       "      <td>station4</td>\n",
       "    </tr>\n",
       "    <tr>\n",
       "      <th>4</th>\n",
       "      <td>4</td>\n",
       "      <td>38.10853</td>\n",
       "      <td>122.0560</td>\n",
       "      <td>usgs</td>\n",
       "      <td>station5</td>\n",
       "    </tr>\n",
       "  </tbody>\n",
       "</table>\n",
       "</div>"
      ],
      "text/plain": [
       "   index       lat       lon usgs_or_plankton  Location\n",
       "0      0  38.05222  121.6878             usgs  station1\n",
       "1      1  38.09333  121.7361             usgs  station2\n",
       "2      2  38.04953  121.8876             usgs  station3\n",
       "3      3  38.04500  122.1256             usgs  station4\n",
       "4      4  38.10853  122.0560             usgs  station5"
      ]
     },
     "execution_count": 50,
     "metadata": {},
     "output_type": "execute_result"
    }
   ],
   "source": [
    "df.head()"
   ]
  },
  {
   "cell_type": "code",
   "execution_count": 51,
   "metadata": {},
   "outputs": [],
   "source": [
    "df.drop(columns = ['index'], inplace = True)"
   ]
  },
  {
   "cell_type": "code",
   "execution_count": 65,
   "metadata": {},
   "outputs": [
    {
     "data": {
      "text/html": [
       "<div>\n",
       "<style scoped>\n",
       "    .dataframe tbody tr th:only-of-type {\n",
       "        vertical-align: middle;\n",
       "    }\n",
       "\n",
       "    .dataframe tbody tr th {\n",
       "        vertical-align: top;\n",
       "    }\n",
       "\n",
       "    .dataframe thead th {\n",
       "        text-align: right;\n",
       "    }\n",
       "</style>\n",
       "<table border=\"1\" class=\"dataframe\">\n",
       "  <thead>\n",
       "    <tr style=\"text-align: right;\">\n",
       "      <th></th>\n",
       "      <th>lat</th>\n",
       "      <th>lon</th>\n",
       "      <th>usgs_or_plankton</th>\n",
       "      <th>Location</th>\n",
       "    </tr>\n",
       "  </thead>\n",
       "  <tbody>\n",
       "    <tr>\n",
       "      <th>0</th>\n",
       "      <td>38.05222</td>\n",
       "      <td>-121.6878</td>\n",
       "      <td>usgs</td>\n",
       "      <td>station1</td>\n",
       "    </tr>\n",
       "    <tr>\n",
       "      <th>1</th>\n",
       "      <td>38.09333</td>\n",
       "      <td>-121.7361</td>\n",
       "      <td>usgs</td>\n",
       "      <td>station2</td>\n",
       "    </tr>\n",
       "    <tr>\n",
       "      <th>2</th>\n",
       "      <td>38.04953</td>\n",
       "      <td>-121.8876</td>\n",
       "      <td>usgs</td>\n",
       "      <td>station3</td>\n",
       "    </tr>\n",
       "    <tr>\n",
       "      <th>3</th>\n",
       "      <td>38.04500</td>\n",
       "      <td>-122.1256</td>\n",
       "      <td>usgs</td>\n",
       "      <td>station4</td>\n",
       "    </tr>\n",
       "    <tr>\n",
       "      <th>4</th>\n",
       "      <td>38.10853</td>\n",
       "      <td>-122.0560</td>\n",
       "      <td>usgs</td>\n",
       "      <td>station5</td>\n",
       "    </tr>\n",
       "  </tbody>\n",
       "</table>\n",
       "</div>"
      ],
      "text/plain": [
       "        lat       lon usgs_or_plankton  Location\n",
       "0  38.05222 -121.6878             usgs  station1\n",
       "1  38.09333 -121.7361             usgs  station2\n",
       "2  38.04953 -121.8876             usgs  station3\n",
       "3  38.04500 -122.1256             usgs  station4\n",
       "4  38.10853 -122.0560             usgs  station5"
      ]
     },
     "execution_count": 65,
     "metadata": {},
     "output_type": "execute_result"
    }
   ],
   "source": [
    "df.head()"
   ]
  },
  {
   "cell_type": "code",
   "execution_count": 71,
   "metadata": {},
   "outputs": [],
   "source": [
    "df['size'] = 20"
   ]
  },
  {
   "cell_type": "code",
   "execution_count": 67,
   "metadata": {},
   "outputs": [],
   "source": [
    "usgs_bubble = usgs.copy()"
   ]
  },
  {
   "cell_type": "code",
   "execution_count": 90,
   "metadata": {},
   "outputs": [],
   "source": [
    "usgs_bubble['usgs_or_plankton'] = ''\n",
    "usgs_bubble['size'] = 500"
   ]
  },
  {
   "cell_type": "code",
   "execution_count": 91,
   "metadata": {},
   "outputs": [],
   "source": [
    "df = pd.concat([df, usgs_bubble], axis=0)"
   ]
  },
  {
   "cell_type": "code",
   "execution_count": 121,
   "metadata": {},
   "outputs": [
    {
     "name": "stderr",
     "output_type": "stream",
     "text": [
      "C:\\ProgramData\\Anaconda3\\lib\\site-packages\\ipykernel_launcher.py:1: SettingWithCopyWarning:\n",
      "\n",
      "\n",
      "A value is trying to be set on a copy of a slice from a DataFrame\n",
      "\n",
      "See the caveats in the documentation: https://pandas.pydata.org/pandas-docs/stable/user_guide/indexing.html#returning-a-view-versus-a-copy\n",
      "\n",
      "C:\\ProgramData\\Anaconda3\\lib\\site-packages\\pandas\\core\\indexing.py:670: SettingWithCopyWarning:\n",
      "\n",
      "\n",
      "A value is trying to be set on a copy of a slice from a DataFrame\n",
      "\n",
      "See the caveats in the documentation: https://pandas.pydata.org/pandas-docs/stable/user_guide/indexing.html#returning-a-view-versus-a-copy\n",
      "\n",
      "C:\\ProgramData\\Anaconda3\\lib\\site-packages\\pandas\\core\\series.py:1043: SettingWithCopyWarning:\n",
      "\n",
      "\n",
      "A value is trying to be set on a copy of a slice from a DataFrame\n",
      "\n",
      "See the caveats in the documentation: https://pandas.pydata.org/pandas-docs/stable/user_guide/indexing.html#returning-a-view-versus-a-copy\n",
      "\n",
      "C:\\ProgramData\\Anaconda3\\lib\\site-packages\\IPython\\core\\interactiveshell.py:3417: SettingWithCopyWarning:\n",
      "\n",
      "\n",
      "A value is trying to be set on a copy of a slice from a DataFrame\n",
      "\n",
      "See the caveats in the documentation: https://pandas.pydata.org/pandas-docs/stable/user_guide/indexing.html#returning-a-view-versus-a-copy\n",
      "\n"
     ]
    },
    {
     "data": {
      "text/html": [
       "<div>\n",
       "<style scoped>\n",
       "    .dataframe tbody tr th:only-of-type {\n",
       "        vertical-align: middle;\n",
       "    }\n",
       "\n",
       "    .dataframe tbody tr th {\n",
       "        vertical-align: top;\n",
       "    }\n",
       "\n",
       "    .dataframe thead th {\n",
       "        text-align: right;\n",
       "    }\n",
       "</style>\n",
       "<table border=\"1\" class=\"dataframe\">\n",
       "  <thead>\n",
       "    <tr style=\"text-align: right;\">\n",
       "      <th></th>\n",
       "      <th>lat</th>\n",
       "      <th>lon</th>\n",
       "      <th>usgs_or_plankton</th>\n",
       "      <th>Location</th>\n",
       "      <th>size</th>\n",
       "    </tr>\n",
       "  </thead>\n",
       "  <tbody>\n",
       "    <tr>\n",
       "      <th>0</th>\n",
       "      <td>38.0522</td>\n",
       "      <td>-121.688</td>\n",
       "      <td>usgs</td>\n",
       "      <td>station1</td>\n",
       "      <td>20</td>\n",
       "    </tr>\n",
       "    <tr>\n",
       "      <th>1</th>\n",
       "      <td>38.0933</td>\n",
       "      <td>-121.736</td>\n",
       "      <td>usgs</td>\n",
       "      <td>station2</td>\n",
       "      <td>20</td>\n",
       "    </tr>\n",
       "    <tr>\n",
       "      <th>2</th>\n",
       "      <td>38.0495</td>\n",
       "      <td>-121.888</td>\n",
       "      <td>usgs</td>\n",
       "      <td>station3</td>\n",
       "      <td>20</td>\n",
       "    </tr>\n",
       "    <tr>\n",
       "      <th>3</th>\n",
       "      <td>38.045</td>\n",
       "      <td>-122.126</td>\n",
       "      <td>usgs</td>\n",
       "      <td>station4</td>\n",
       "      <td>20</td>\n",
       "    </tr>\n",
       "    <tr>\n",
       "      <th>4</th>\n",
       "      <td>38.1085</td>\n",
       "      <td>-122.056</td>\n",
       "      <td>usgs</td>\n",
       "      <td>station5</td>\n",
       "      <td>20</td>\n",
       "    </tr>\n",
       "    <tr>\n",
       "      <th>5</th>\n",
       "      <td>38.0603</td>\n",
       "      <td>-122.207</td>\n",
       "      <td>plankton</td>\n",
       "      <td>Carquinez Strait at Glencove Harbor.</td>\n",
       "      <td>20</td>\n",
       "    </tr>\n",
       "    <tr>\n",
       "      <th>6</th>\n",
       "      <td>38.0292</td>\n",
       "      <td>-122.158</td>\n",
       "      <td>plankton</td>\n",
       "      <td>Carquinez Strait 46 m - 91 m off Ozol pier.</td>\n",
       "      <td>20</td>\n",
       "    </tr>\n",
       "    <tr>\n",
       "      <th>7</th>\n",
       "      <td>38.1172</td>\n",
       "      <td>-122.047</td>\n",
       "      <td>plankton</td>\n",
       "      <td>Grizzly Bay SE of Dolphin near Suisun Slough.</td>\n",
       "      <td>20</td>\n",
       "    </tr>\n",
       "    <tr>\n",
       "      <th>8</th>\n",
       "      <td>38.1703</td>\n",
       "      <td>-122.021</td>\n",
       "      <td>plankton</td>\n",
       "      <td>Montezuma Slough 2nd bend from mouth.</td>\n",
       "      <td>20</td>\n",
       "    </tr>\n",
       "    <tr>\n",
       "      <th>9</th>\n",
       "      <td>38.06</td>\n",
       "      <td>-121.996</td>\n",
       "      <td>plankton</td>\n",
       "      <td>Suisun Bay channel, off Middle Point (upstrm o...</td>\n",
       "      <td>20</td>\n",
       "    </tr>\n",
       "    <tr>\n",
       "      <th>10</th>\n",
       "      <td>38.0458</td>\n",
       "      <td>-121.906</td>\n",
       "      <td>plankton</td>\n",
       "      <td>Sacramento River at mouth of Mallard Slough, n...</td>\n",
       "      <td>20</td>\n",
       "    </tr>\n",
       "    <tr>\n",
       "      <th>11</th>\n",
       "      <td>38.0644</td>\n",
       "      <td>-121.829</td>\n",
       "      <td>plankton</td>\n",
       "      <td>Sacramento River abover Point Sacramento (bet....</td>\n",
       "      <td>20</td>\n",
       "    </tr>\n",
       "    <tr>\n",
       "      <th>12</th>\n",
       "      <td>38.0847</td>\n",
       "      <td>-121.738</td>\n",
       "      <td>plankton</td>\n",
       "      <td>Sacramento River at Emmaton (upstrm of lights ...</td>\n",
       "      <td>20</td>\n",
       "    </tr>\n",
       "    <tr>\n",
       "      <th>13</th>\n",
       "      <td>38.0222</td>\n",
       "      <td>-121.804</td>\n",
       "      <td>plankton</td>\n",
       "      <td>San Joaquin River at Antioch Ship Canal (bet. ...</td>\n",
       "      <td>20</td>\n",
       "    </tr>\n",
       "    <tr>\n",
       "      <th>14</th>\n",
       "      <td>38.0778</td>\n",
       "      <td>-121.57</td>\n",
       "      <td>plankton</td>\n",
       "      <td>San Joaquin River at Potato Point (light 53).</td>\n",
       "      <td>20</td>\n",
       "    </tr>\n",
       "    <tr>\n",
       "      <th>15</th>\n",
       "      <td>37.9783</td>\n",
       "      <td>-121.382</td>\n",
       "      <td>plankton</td>\n",
       "      <td>San Joaquin River at Buckley Cover (downstrm f...</td>\n",
       "      <td>20</td>\n",
       "    </tr>\n",
       "    <tr>\n",
       "      <th>16</th>\n",
       "      <td>38.0578</td>\n",
       "      <td>-122.289</td>\n",
       "      <td>plankton</td>\n",
       "      <td>San Pablo Bay at light 15.</td>\n",
       "      <td>20</td>\n",
       "    </tr>\n",
       "    <tr>\n",
       "      <th>17</th>\n",
       "      <td>38.0708</td>\n",
       "      <td>-122.411</td>\n",
       "      <td>plankton</td>\n",
       "      <td>San Pablo Bay near mouth of Petaluma River</td>\n",
       "      <td>20</td>\n",
       "    </tr>\n",
       "    <tr>\n",
       "      <th>18</th>\n",
       "      <td>38.0444</td>\n",
       "      <td>-122.117</td>\n",
       "      <td>plankton</td>\n",
       "      <td>Suisun Bay at Bulls Head Point near Martinez (...</td>\n",
       "      <td>20</td>\n",
       "    </tr>\n",
       "    <tr>\n",
       "      <th>19</th>\n",
       "      <td>38.0972</td>\n",
       "      <td>-121.667</td>\n",
       "      <td>plankton</td>\n",
       "      <td>San Joaquin River at Twitchell Island.  Core s...</td>\n",
       "      <td>20</td>\n",
       "    </tr>\n",
       "    <tr>\n",
       "      <th>20</th>\n",
       "      <td>38.0439</td>\n",
       "      <td>-121.614</td>\n",
       "      <td>plankton</td>\n",
       "      <td>Franks Tract near Russo's Landing.</td>\n",
       "      <td>20</td>\n",
       "    </tr>\n",
       "    <tr>\n",
       "      <th>21</th>\n",
       "      <td>37.9828</td>\n",
       "      <td>-121.577</td>\n",
       "      <td>plankton</td>\n",
       "      <td>Old River near Rancho Del Oro, south end of Ho...</td>\n",
       "      <td>20</td>\n",
       "    </tr>\n",
       "    <tr>\n",
       "      <th>22</th>\n",
       "      <td>38.0306</td>\n",
       "      <td>-122.371</td>\n",
       "      <td>plankton</td>\n",
       "      <td>San Pablo Bay near Point Pinole.</td>\n",
       "      <td>20</td>\n",
       "    </tr>\n",
       "    <tr>\n",
       "      <th>23</th>\n",
       "      <td>38.0436</td>\n",
       "      <td>-121.426</td>\n",
       "      <td>plankton</td>\n",
       "      <td>Disappointment Slough near Bishop Cut (downstr...</td>\n",
       "      <td>20</td>\n",
       "    </tr>\n",
       "    <tr>\n",
       "      <th>24</th>\n",
       "      <td>38.1806</td>\n",
       "      <td>-122.047</td>\n",
       "      <td>plankton</td>\n",
       "      <td>Suisun Slough at mouth of Volanti Slough.</td>\n",
       "      <td>20</td>\n",
       "    </tr>\n",
       "    <tr>\n",
       "      <th>0</th>\n",
       "      <td>38.0522</td>\n",
       "      <td>-121.688</td>\n",
       "      <td></td>\n",
       "      <td>station1</td>\n",
       "      <td>200</td>\n",
       "    </tr>\n",
       "    <tr>\n",
       "      <th>1</th>\n",
       "      <td>38.0933</td>\n",
       "      <td>-121.736</td>\n",
       "      <td></td>\n",
       "      <td>station2</td>\n",
       "      <td>200</td>\n",
       "    </tr>\n",
       "    <tr>\n",
       "      <th>2</th>\n",
       "      <td>38.0495</td>\n",
       "      <td>-121.888</td>\n",
       "      <td></td>\n",
       "      <td>station3</td>\n",
       "      <td>200</td>\n",
       "    </tr>\n",
       "    <tr>\n",
       "      <th>3</th>\n",
       "      <td>38.045</td>\n",
       "      <td>-122.126</td>\n",
       "      <td></td>\n",
       "      <td>station4</td>\n",
       "      <td>200</td>\n",
       "    </tr>\n",
       "    <tr>\n",
       "      <th>4</th>\n",
       "      <td>38.1085</td>\n",
       "      <td>-122.056</td>\n",
       "      <td></td>\n",
       "      <td>station5</td>\n",
       "      <td>200</td>\n",
       "    </tr>\n",
       "  </tbody>\n",
       "</table>\n",
       "</div>"
      ],
      "text/plain": [
       "        lat      lon usgs_or_plankton  \\\n",
       "0   38.0522 -121.688             usgs   \n",
       "1   38.0933 -121.736             usgs   \n",
       "2   38.0495 -121.888             usgs   \n",
       "3    38.045 -122.126             usgs   \n",
       "4   38.1085 -122.056             usgs   \n",
       "5   38.0603 -122.207         plankton   \n",
       "6   38.0292 -122.158         plankton   \n",
       "7   38.1172 -122.047         plankton   \n",
       "8   38.1703 -122.021         plankton   \n",
       "9     38.06 -121.996         plankton   \n",
       "10  38.0458 -121.906         plankton   \n",
       "11  38.0644 -121.829         plankton   \n",
       "12  38.0847 -121.738         plankton   \n",
       "13  38.0222 -121.804         plankton   \n",
       "14  38.0778  -121.57         plankton   \n",
       "15  37.9783 -121.382         plankton   \n",
       "16  38.0578 -122.289         plankton   \n",
       "17  38.0708 -122.411         plankton   \n",
       "18  38.0444 -122.117         plankton   \n",
       "19  38.0972 -121.667         plankton   \n",
       "20  38.0439 -121.614         plankton   \n",
       "21  37.9828 -121.577         plankton   \n",
       "22  38.0306 -122.371         plankton   \n",
       "23  38.0436 -121.426         plankton   \n",
       "24  38.1806 -122.047         plankton   \n",
       "0   38.0522 -121.688                    \n",
       "1   38.0933 -121.736                    \n",
       "2   38.0495 -121.888                    \n",
       "3    38.045 -122.126                    \n",
       "4   38.1085 -122.056                    \n",
       "\n",
       "                                             Location  size  \n",
       "0                                            station1    20  \n",
       "1                                            station2    20  \n",
       "2                                            station3    20  \n",
       "3                                            station4    20  \n",
       "4                                            station5    20  \n",
       "5                Carquinez Strait at Glencove Harbor.    20  \n",
       "6         Carquinez Strait 46 m - 91 m off Ozol pier.    20  \n",
       "7       Grizzly Bay SE of Dolphin near Suisun Slough.    20  \n",
       "8               Montezuma Slough 2nd bend from mouth.    20  \n",
       "9   Suisun Bay channel, off Middle Point (upstrm o...    20  \n",
       "10  Sacramento River at mouth of Mallard Slough, n...    20  \n",
       "11  Sacramento River abover Point Sacramento (bet....    20  \n",
       "12  Sacramento River at Emmaton (upstrm of lights ...    20  \n",
       "13  San Joaquin River at Antioch Ship Canal (bet. ...    20  \n",
       "14      San Joaquin River at Potato Point (light 53).    20  \n",
       "15  San Joaquin River at Buckley Cover (downstrm f...    20  \n",
       "16                         San Pablo Bay at light 15.    20  \n",
       "17         San Pablo Bay near mouth of Petaluma River    20  \n",
       "18  Suisun Bay at Bulls Head Point near Martinez (...    20  \n",
       "19  San Joaquin River at Twitchell Island.  Core s...    20  \n",
       "20                 Franks Tract near Russo's Landing.    20  \n",
       "21  Old River near Rancho Del Oro, south end of Ho...    20  \n",
       "22                   San Pablo Bay near Point Pinole.    20  \n",
       "23  Disappointment Slough near Bishop Cut (downstr...    20  \n",
       "24        Suisun Slough at mouth of Volanti Slough.      20  \n",
       "0                                            station1   200  \n",
       "1                                            station2   200  \n",
       "2                                            station3   200  \n",
       "3                                            station4   200  \n",
       "4                                            station5   200  "
      ]
     },
     "execution_count": 121,
     "metadata": {},
     "output_type": "execute_result"
    }
   ],
   "source": [
    "df['size'][-5:] = 200\n",
    "df"
   ]
  },
  {
   "cell_type": "code",
   "execution_count": 124,
   "metadata": {},
   "outputs": [
    {
     "name": "stderr",
     "output_type": "stream",
     "text": [
      "C:\\ProgramData\\Anaconda3\\lib\\site-packages\\ipykernel_launcher.py:1: SettingWithCopyWarning:\n",
      "\n",
      "\n",
      "A value is trying to be set on a copy of a slice from a DataFrame.\n",
      "Try using .loc[row_indexer,col_indexer] = value instead\n",
      "\n",
      "See the caveats in the documentation: https://pandas.pydata.org/pandas-docs/stable/user_guide/indexing.html#returning-a-view-versus-a-copy\n",
      "\n"
     ]
    }
   ],
   "source": [
    "df['Legend'] = df['usgs_or_plankton'].copy()"
   ]
  },
  {
   "cell_type": "code",
   "execution_count": 127,
   "metadata": {},
   "outputs": [
    {
     "data": {
      "text/html": [
       "<div>\n",
       "<style scoped>\n",
       "    .dataframe tbody tr th:only-of-type {\n",
       "        vertical-align: middle;\n",
       "    }\n",
       "\n",
       "    .dataframe tbody tr th {\n",
       "        vertical-align: top;\n",
       "    }\n",
       "\n",
       "    .dataframe thead th {\n",
       "        text-align: right;\n",
       "    }\n",
       "</style>\n",
       "<table border=\"1\" class=\"dataframe\">\n",
       "  <thead>\n",
       "    <tr style=\"text-align: right;\">\n",
       "      <th></th>\n",
       "      <th>lat</th>\n",
       "      <th>lon</th>\n",
       "      <th>usgs_or_plankton</th>\n",
       "      <th>Location</th>\n",
       "      <th>size</th>\n",
       "      <th>Legend</th>\n",
       "    </tr>\n",
       "  </thead>\n",
       "  <tbody>\n",
       "    <tr>\n",
       "      <th>17</th>\n",
       "      <td>38.0708</td>\n",
       "      <td>-122.411</td>\n",
       "      <td>plankton</td>\n",
       "      <td>San Pablo Bay near mouth of Petaluma River</td>\n",
       "      <td>20</td>\n",
       "      <td>plankton</td>\n",
       "    </tr>\n",
       "    <tr>\n",
       "      <th>22</th>\n",
       "      <td>38.0306</td>\n",
       "      <td>-122.371</td>\n",
       "      <td>plankton</td>\n",
       "      <td>San Pablo Bay near Point Pinole.</td>\n",
       "      <td>20</td>\n",
       "      <td>plankton</td>\n",
       "    </tr>\n",
       "    <tr>\n",
       "      <th>16</th>\n",
       "      <td>38.0578</td>\n",
       "      <td>-122.289</td>\n",
       "      <td>plankton</td>\n",
       "      <td>San Pablo Bay at light 15.</td>\n",
       "      <td>20</td>\n",
       "      <td>plankton</td>\n",
       "    </tr>\n",
       "    <tr>\n",
       "      <th>5</th>\n",
       "      <td>38.0603</td>\n",
       "      <td>-122.207</td>\n",
       "      <td>plankton</td>\n",
       "      <td>Carquinez Strait at Glencove Harbor.</td>\n",
       "      <td>20</td>\n",
       "      <td>plankton</td>\n",
       "    </tr>\n",
       "    <tr>\n",
       "      <th>6</th>\n",
       "      <td>38.0292</td>\n",
       "      <td>-122.158</td>\n",
       "      <td>plankton</td>\n",
       "      <td>Carquinez Strait 46 m - 91 m off Ozol pier.</td>\n",
       "      <td>20</td>\n",
       "      <td>plankton</td>\n",
       "    </tr>\n",
       "    <tr>\n",
       "      <th>3</th>\n",
       "      <td>38.045</td>\n",
       "      <td>-122.126</td>\n",
       "      <td>usgs</td>\n",
       "      <td>station4</td>\n",
       "      <td>20</td>\n",
       "      <td>usgs</td>\n",
       "    </tr>\n",
       "    <tr>\n",
       "      <th>3</th>\n",
       "      <td>38.045</td>\n",
       "      <td>-122.126</td>\n",
       "      <td></td>\n",
       "      <td>station4</td>\n",
       "      <td>200</td>\n",
       "      <td></td>\n",
       "    </tr>\n",
       "    <tr>\n",
       "      <th>18</th>\n",
       "      <td>38.0444</td>\n",
       "      <td>-122.117</td>\n",
       "      <td>plankton</td>\n",
       "      <td>Suisun Bay at Bulls Head Point near Martinez (...</td>\n",
       "      <td>20</td>\n",
       "      <td>plankton</td>\n",
       "    </tr>\n",
       "    <tr>\n",
       "      <th>4</th>\n",
       "      <td>38.1085</td>\n",
       "      <td>-122.056</td>\n",
       "      <td></td>\n",
       "      <td>station5</td>\n",
       "      <td>200</td>\n",
       "      <td></td>\n",
       "    </tr>\n",
       "    <tr>\n",
       "      <th>4</th>\n",
       "      <td>38.1085</td>\n",
       "      <td>-122.056</td>\n",
       "      <td>usgs</td>\n",
       "      <td>station5</td>\n",
       "      <td>20</td>\n",
       "      <td>usgs</td>\n",
       "    </tr>\n",
       "    <tr>\n",
       "      <th>24</th>\n",
       "      <td>38.1806</td>\n",
       "      <td>-122.047</td>\n",
       "      <td>plankton</td>\n",
       "      <td>Suisun Slough at mouth of Volanti Slough.</td>\n",
       "      <td>20</td>\n",
       "      <td>plankton</td>\n",
       "    </tr>\n",
       "    <tr>\n",
       "      <th>7</th>\n",
       "      <td>38.1172</td>\n",
       "      <td>-122.047</td>\n",
       "      <td>plankton</td>\n",
       "      <td>Grizzly Bay SE of Dolphin near Suisun Slough.</td>\n",
       "      <td>20</td>\n",
       "      <td>plankton</td>\n",
       "    </tr>\n",
       "    <tr>\n",
       "      <th>8</th>\n",
       "      <td>38.1703</td>\n",
       "      <td>-122.021</td>\n",
       "      <td>plankton</td>\n",
       "      <td>Montezuma Slough 2nd bend from mouth.</td>\n",
       "      <td>20</td>\n",
       "      <td>plankton</td>\n",
       "    </tr>\n",
       "    <tr>\n",
       "      <th>9</th>\n",
       "      <td>38.06</td>\n",
       "      <td>-121.996</td>\n",
       "      <td>plankton</td>\n",
       "      <td>Suisun Bay channel, off Middle Point (upstrm o...</td>\n",
       "      <td>20</td>\n",
       "      <td>plankton</td>\n",
       "    </tr>\n",
       "    <tr>\n",
       "      <th>10</th>\n",
       "      <td>38.0458</td>\n",
       "      <td>-121.906</td>\n",
       "      <td>plankton</td>\n",
       "      <td>Sacramento River at mouth of Mallard Slough, n...</td>\n",
       "      <td>20</td>\n",
       "      <td>plankton</td>\n",
       "    </tr>\n",
       "    <tr>\n",
       "      <th>2</th>\n",
       "      <td>38.0495</td>\n",
       "      <td>-121.888</td>\n",
       "      <td></td>\n",
       "      <td>station3</td>\n",
       "      <td>200</td>\n",
       "      <td></td>\n",
       "    </tr>\n",
       "    <tr>\n",
       "      <th>2</th>\n",
       "      <td>38.0495</td>\n",
       "      <td>-121.888</td>\n",
       "      <td>usgs</td>\n",
       "      <td>station3</td>\n",
       "      <td>20</td>\n",
       "      <td>usgs</td>\n",
       "    </tr>\n",
       "    <tr>\n",
       "      <th>11</th>\n",
       "      <td>38.0644</td>\n",
       "      <td>-121.829</td>\n",
       "      <td>plankton</td>\n",
       "      <td>Sacramento River abover Point Sacramento (bet....</td>\n",
       "      <td>20</td>\n",
       "      <td>plankton</td>\n",
       "    </tr>\n",
       "    <tr>\n",
       "      <th>13</th>\n",
       "      <td>38.0222</td>\n",
       "      <td>-121.804</td>\n",
       "      <td>plankton</td>\n",
       "      <td>San Joaquin River at Antioch Ship Canal (bet. ...</td>\n",
       "      <td>20</td>\n",
       "      <td>plankton</td>\n",
       "    </tr>\n",
       "    <tr>\n",
       "      <th>12</th>\n",
       "      <td>38.0847</td>\n",
       "      <td>-121.738</td>\n",
       "      <td>plankton</td>\n",
       "      <td>Sacramento River at Emmaton (upstrm of lights ...</td>\n",
       "      <td>20</td>\n",
       "      <td>plankton</td>\n",
       "    </tr>\n",
       "    <tr>\n",
       "      <th>1</th>\n",
       "      <td>38.0933</td>\n",
       "      <td>-121.736</td>\n",
       "      <td>usgs</td>\n",
       "      <td>station2</td>\n",
       "      <td>20</td>\n",
       "      <td>usgs</td>\n",
       "    </tr>\n",
       "    <tr>\n",
       "      <th>1</th>\n",
       "      <td>38.0933</td>\n",
       "      <td>-121.736</td>\n",
       "      <td></td>\n",
       "      <td>station2</td>\n",
       "      <td>200</td>\n",
       "      <td></td>\n",
       "    </tr>\n",
       "    <tr>\n",
       "      <th>0</th>\n",
       "      <td>38.0522</td>\n",
       "      <td>-121.688</td>\n",
       "      <td></td>\n",
       "      <td>station1</td>\n",
       "      <td>200</td>\n",
       "      <td></td>\n",
       "    </tr>\n",
       "    <tr>\n",
       "      <th>0</th>\n",
       "      <td>38.0522</td>\n",
       "      <td>-121.688</td>\n",
       "      <td>usgs</td>\n",
       "      <td>station1</td>\n",
       "      <td>20</td>\n",
       "      <td>usgs</td>\n",
       "    </tr>\n",
       "    <tr>\n",
       "      <th>19</th>\n",
       "      <td>38.0972</td>\n",
       "      <td>-121.667</td>\n",
       "      <td>plankton</td>\n",
       "      <td>San Joaquin River at Twitchell Island.  Core s...</td>\n",
       "      <td>20</td>\n",
       "      <td>plankton</td>\n",
       "    </tr>\n",
       "    <tr>\n",
       "      <th>20</th>\n",
       "      <td>38.0439</td>\n",
       "      <td>-121.614</td>\n",
       "      <td>plankton</td>\n",
       "      <td>Franks Tract near Russo's Landing.</td>\n",
       "      <td>20</td>\n",
       "      <td>plankton</td>\n",
       "    </tr>\n",
       "    <tr>\n",
       "      <th>21</th>\n",
       "      <td>37.9828</td>\n",
       "      <td>-121.577</td>\n",
       "      <td>plankton</td>\n",
       "      <td>Old River near Rancho Del Oro, south end of Ho...</td>\n",
       "      <td>20</td>\n",
       "      <td>plankton</td>\n",
       "    </tr>\n",
       "    <tr>\n",
       "      <th>14</th>\n",
       "      <td>38.0778</td>\n",
       "      <td>-121.57</td>\n",
       "      <td>plankton</td>\n",
       "      <td>San Joaquin River at Potato Point (light 53).</td>\n",
       "      <td>20</td>\n",
       "      <td>plankton</td>\n",
       "    </tr>\n",
       "    <tr>\n",
       "      <th>23</th>\n",
       "      <td>38.0436</td>\n",
       "      <td>-121.426</td>\n",
       "      <td>plankton</td>\n",
       "      <td>Disappointment Slough near Bishop Cut (downstr...</td>\n",
       "      <td>20</td>\n",
       "      <td>plankton</td>\n",
       "    </tr>\n",
       "    <tr>\n",
       "      <th>15</th>\n",
       "      <td>37.9783</td>\n",
       "      <td>-121.382</td>\n",
       "      <td>plankton</td>\n",
       "      <td>San Joaquin River at Buckley Cover (downstrm f...</td>\n",
       "      <td>20</td>\n",
       "      <td>plankton</td>\n",
       "    </tr>\n",
       "  </tbody>\n",
       "</table>\n",
       "</div>"
      ],
      "text/plain": [
       "        lat      lon usgs_or_plankton  \\\n",
       "17  38.0708 -122.411         plankton   \n",
       "22  38.0306 -122.371         plankton   \n",
       "16  38.0578 -122.289         plankton   \n",
       "5   38.0603 -122.207         plankton   \n",
       "6   38.0292 -122.158         plankton   \n",
       "3    38.045 -122.126             usgs   \n",
       "3    38.045 -122.126                    \n",
       "18  38.0444 -122.117         plankton   \n",
       "4   38.1085 -122.056                    \n",
       "4   38.1085 -122.056             usgs   \n",
       "24  38.1806 -122.047         plankton   \n",
       "7   38.1172 -122.047         plankton   \n",
       "8   38.1703 -122.021         plankton   \n",
       "9     38.06 -121.996         plankton   \n",
       "10  38.0458 -121.906         plankton   \n",
       "2   38.0495 -121.888                    \n",
       "2   38.0495 -121.888             usgs   \n",
       "11  38.0644 -121.829         plankton   \n",
       "13  38.0222 -121.804         plankton   \n",
       "12  38.0847 -121.738         plankton   \n",
       "1   38.0933 -121.736             usgs   \n",
       "1   38.0933 -121.736                    \n",
       "0   38.0522 -121.688                    \n",
       "0   38.0522 -121.688             usgs   \n",
       "19  38.0972 -121.667         plankton   \n",
       "20  38.0439 -121.614         plankton   \n",
       "21  37.9828 -121.577         plankton   \n",
       "14  38.0778  -121.57         plankton   \n",
       "23  38.0436 -121.426         plankton   \n",
       "15  37.9783 -121.382         plankton   \n",
       "\n",
       "                                             Location  size    Legend  \n",
       "17         San Pablo Bay near mouth of Petaluma River    20  plankton  \n",
       "22                   San Pablo Bay near Point Pinole.    20  plankton  \n",
       "16                         San Pablo Bay at light 15.    20  plankton  \n",
       "5                Carquinez Strait at Glencove Harbor.    20  plankton  \n",
       "6         Carquinez Strait 46 m - 91 m off Ozol pier.    20  plankton  \n",
       "3                                            station4    20      usgs  \n",
       "3                                            station4   200            \n",
       "18  Suisun Bay at Bulls Head Point near Martinez (...    20  plankton  \n",
       "4                                            station5   200            \n",
       "4                                            station5    20      usgs  \n",
       "24        Suisun Slough at mouth of Volanti Slough.      20  plankton  \n",
       "7       Grizzly Bay SE of Dolphin near Suisun Slough.    20  plankton  \n",
       "8               Montezuma Slough 2nd bend from mouth.    20  plankton  \n",
       "9   Suisun Bay channel, off Middle Point (upstrm o...    20  plankton  \n",
       "10  Sacramento River at mouth of Mallard Slough, n...    20  plankton  \n",
       "2                                            station3   200            \n",
       "2                                            station3    20      usgs  \n",
       "11  Sacramento River abover Point Sacramento (bet....    20  plankton  \n",
       "13  San Joaquin River at Antioch Ship Canal (bet. ...    20  plankton  \n",
       "12  Sacramento River at Emmaton (upstrm of lights ...    20  plankton  \n",
       "1                                            station2    20      usgs  \n",
       "1                                            station2   200            \n",
       "0                                            station1   200            \n",
       "0                                            station1    20      usgs  \n",
       "19  San Joaquin River at Twitchell Island.  Core s...    20  plankton  \n",
       "20                 Franks Tract near Russo's Landing.    20  plankton  \n",
       "21  Old River near Rancho Del Oro, south end of Ho...    20  plankton  \n",
       "14      San Joaquin River at Potato Point (light 53).    20  plankton  \n",
       "23  Disappointment Slough near Bishop Cut (downstr...    20  plankton  \n",
       "15  San Joaquin River at Buckley Cover (downstrm f...    20  plankton  "
      ]
     },
     "execution_count": 127,
     "metadata": {},
     "output_type": "execute_result"
    }
   ],
   "source": [
    "df.sort_values('lon')"
   ]
  },
  {
   "cell_type": "code",
   "execution_count": 130,
   "metadata": {},
   "outputs": [
    {
     "data": {
      "application/vnd.plotly.v1+json": {
       "config": {
        "plotlyServerURL": "https://plot.ly"
       },
       "data": [
        {
         "hovertemplate": "Legend=usgs<br>size=%{marker.size}<br>lat=%{lat}<br>lon=%{lon}<extra></extra>",
         "lat": [
          38.05222,
          38.09333,
          38.04953,
          38.045,
          38.10853
         ],
         "legendgroup": "usgs",
         "lon": [
          -121.6878,
          -121.7361,
          -121.8876,
          -122.1256,
          -122.056
         ],
         "marker": {
          "color": "#636efa",
          "size": [
           20,
           20,
           20,
           20,
           20
          ],
          "sizemode": "area",
          "sizeref": 0.5555555555555556
         },
         "mode": "markers",
         "name": "usgs",
         "showlegend": true,
         "subplot": "mapbox",
         "type": "scattermapbox"
        },
        {
         "hovertemplate": "Legend=plankton<br>size=%{marker.size}<br>lat=%{lat}<br>lon=%{lon}<extra></extra>",
         "lat": [
          38.0603,
          38.0292,
          38.1172,
          38.1703,
          38.06,
          38.0458,
          38.0644,
          38.0847,
          38.0222,
          38.0778,
          37.9783,
          38.0578,
          38.0708,
          38.0444,
          38.0972,
          38.0439,
          37.9828,
          38.0306,
          38.0436,
          38.1806
         ],
         "legendgroup": "plankton",
         "lon": [
          -122.2069,
          -122.1583,
          -122.0472,
          -122.0208,
          -121.9958,
          -121.9064,
          -121.8289,
          -121.7381,
          -121.8036,
          -121.5703,
          -121.3819,
          -122.2889,
          -122.4111,
          -122.1167,
          -121.6667,
          -121.6136,
          -121.5772,
          -122.3708,
          -121.4264,
          -122.0472
         ],
         "marker": {
          "color": "#EF553B",
          "size": [
           20,
           20,
           20,
           20,
           20,
           20,
           20,
           20,
           20,
           20,
           20,
           20,
           20,
           20,
           20,
           20,
           20,
           20,
           20,
           20
          ],
          "sizemode": "area",
          "sizeref": 0.5555555555555556
         },
         "mode": "markers",
         "name": "plankton",
         "showlegend": true,
         "subplot": "mapbox",
         "type": "scattermapbox"
        }
       ],
       "layout": {
        "autosize": true,
        "legend": {
         "itemsizing": "constant",
         "title": {
          "text": "Legend"
         },
         "tracegroupgap": 0
        },
        "mapbox": {
         "accesstoken": "pk.eyJ1IjoicmxldzYzMSIsImEiOiJja2ZpZjUwYnEwN2Y3MndxcDBtYTFmajlrIn0.i6Qgn9bwSfakc_TSm9TWHA",
         "center": {
          "lat": 38.0644204,
          "lon": -121.90679600000001
         },
         "domain": {
          "x": [
           0,
           1
          ],
          "y": [
           0,
           1
          ]
         },
         "zoom": 7.8
        },
        "margin": {
         "t": 60
        },
        "template": {
         "data": {
          "bar": [
           {
            "error_x": {
             "color": "#2a3f5f"
            },
            "error_y": {
             "color": "#2a3f5f"
            },
            "marker": {
             "line": {
              "color": "#E5ECF6",
              "width": 0.5
             }
            },
            "type": "bar"
           }
          ],
          "barpolar": [
           {
            "marker": {
             "line": {
              "color": "#E5ECF6",
              "width": 0.5
             }
            },
            "type": "barpolar"
           }
          ],
          "carpet": [
           {
            "aaxis": {
             "endlinecolor": "#2a3f5f",
             "gridcolor": "white",
             "linecolor": "white",
             "minorgridcolor": "white",
             "startlinecolor": "#2a3f5f"
            },
            "baxis": {
             "endlinecolor": "#2a3f5f",
             "gridcolor": "white",
             "linecolor": "white",
             "minorgridcolor": "white",
             "startlinecolor": "#2a3f5f"
            },
            "type": "carpet"
           }
          ],
          "choropleth": [
           {
            "colorbar": {
             "outlinewidth": 0,
             "ticks": ""
            },
            "type": "choropleth"
           }
          ],
          "contour": [
           {
            "colorbar": {
             "outlinewidth": 0,
             "ticks": ""
            },
            "colorscale": [
             [
              0,
              "#0d0887"
             ],
             [
              0.1111111111111111,
              "#46039f"
             ],
             [
              0.2222222222222222,
              "#7201a8"
             ],
             [
              0.3333333333333333,
              "#9c179e"
             ],
             [
              0.4444444444444444,
              "#bd3786"
             ],
             [
              0.5555555555555556,
              "#d8576b"
             ],
             [
              0.6666666666666666,
              "#ed7953"
             ],
             [
              0.7777777777777778,
              "#fb9f3a"
             ],
             [
              0.8888888888888888,
              "#fdca26"
             ],
             [
              1,
              "#f0f921"
             ]
            ],
            "type": "contour"
           }
          ],
          "contourcarpet": [
           {
            "colorbar": {
             "outlinewidth": 0,
             "ticks": ""
            },
            "type": "contourcarpet"
           }
          ],
          "heatmap": [
           {
            "colorbar": {
             "outlinewidth": 0,
             "ticks": ""
            },
            "colorscale": [
             [
              0,
              "#0d0887"
             ],
             [
              0.1111111111111111,
              "#46039f"
             ],
             [
              0.2222222222222222,
              "#7201a8"
             ],
             [
              0.3333333333333333,
              "#9c179e"
             ],
             [
              0.4444444444444444,
              "#bd3786"
             ],
             [
              0.5555555555555556,
              "#d8576b"
             ],
             [
              0.6666666666666666,
              "#ed7953"
             ],
             [
              0.7777777777777778,
              "#fb9f3a"
             ],
             [
              0.8888888888888888,
              "#fdca26"
             ],
             [
              1,
              "#f0f921"
             ]
            ],
            "type": "heatmap"
           }
          ],
          "heatmapgl": [
           {
            "colorbar": {
             "outlinewidth": 0,
             "ticks": ""
            },
            "colorscale": [
             [
              0,
              "#0d0887"
             ],
             [
              0.1111111111111111,
              "#46039f"
             ],
             [
              0.2222222222222222,
              "#7201a8"
             ],
             [
              0.3333333333333333,
              "#9c179e"
             ],
             [
              0.4444444444444444,
              "#bd3786"
             ],
             [
              0.5555555555555556,
              "#d8576b"
             ],
             [
              0.6666666666666666,
              "#ed7953"
             ],
             [
              0.7777777777777778,
              "#fb9f3a"
             ],
             [
              0.8888888888888888,
              "#fdca26"
             ],
             [
              1,
              "#f0f921"
             ]
            ],
            "type": "heatmapgl"
           }
          ],
          "histogram": [
           {
            "marker": {
             "colorbar": {
              "outlinewidth": 0,
              "ticks": ""
             }
            },
            "type": "histogram"
           }
          ],
          "histogram2d": [
           {
            "colorbar": {
             "outlinewidth": 0,
             "ticks": ""
            },
            "colorscale": [
             [
              0,
              "#0d0887"
             ],
             [
              0.1111111111111111,
              "#46039f"
             ],
             [
              0.2222222222222222,
              "#7201a8"
             ],
             [
              0.3333333333333333,
              "#9c179e"
             ],
             [
              0.4444444444444444,
              "#bd3786"
             ],
             [
              0.5555555555555556,
              "#d8576b"
             ],
             [
              0.6666666666666666,
              "#ed7953"
             ],
             [
              0.7777777777777778,
              "#fb9f3a"
             ],
             [
              0.8888888888888888,
              "#fdca26"
             ],
             [
              1,
              "#f0f921"
             ]
            ],
            "type": "histogram2d"
           }
          ],
          "histogram2dcontour": [
           {
            "colorbar": {
             "outlinewidth": 0,
             "ticks": ""
            },
            "colorscale": [
             [
              0,
              "#0d0887"
             ],
             [
              0.1111111111111111,
              "#46039f"
             ],
             [
              0.2222222222222222,
              "#7201a8"
             ],
             [
              0.3333333333333333,
              "#9c179e"
             ],
             [
              0.4444444444444444,
              "#bd3786"
             ],
             [
              0.5555555555555556,
              "#d8576b"
             ],
             [
              0.6666666666666666,
              "#ed7953"
             ],
             [
              0.7777777777777778,
              "#fb9f3a"
             ],
             [
              0.8888888888888888,
              "#fdca26"
             ],
             [
              1,
              "#f0f921"
             ]
            ],
            "type": "histogram2dcontour"
           }
          ],
          "mesh3d": [
           {
            "colorbar": {
             "outlinewidth": 0,
             "ticks": ""
            },
            "type": "mesh3d"
           }
          ],
          "parcoords": [
           {
            "line": {
             "colorbar": {
              "outlinewidth": 0,
              "ticks": ""
             }
            },
            "type": "parcoords"
           }
          ],
          "pie": [
           {
            "automargin": true,
            "type": "pie"
           }
          ],
          "scatter": [
           {
            "marker": {
             "colorbar": {
              "outlinewidth": 0,
              "ticks": ""
             }
            },
            "type": "scatter"
           }
          ],
          "scatter3d": [
           {
            "line": {
             "colorbar": {
              "outlinewidth": 0,
              "ticks": ""
             }
            },
            "marker": {
             "colorbar": {
              "outlinewidth": 0,
              "ticks": ""
             }
            },
            "type": "scatter3d"
           }
          ],
          "scattercarpet": [
           {
            "marker": {
             "colorbar": {
              "outlinewidth": 0,
              "ticks": ""
             }
            },
            "type": "scattercarpet"
           }
          ],
          "scattergeo": [
           {
            "marker": {
             "colorbar": {
              "outlinewidth": 0,
              "ticks": ""
             }
            },
            "type": "scattergeo"
           }
          ],
          "scattergl": [
           {
            "marker": {
             "colorbar": {
              "outlinewidth": 0,
              "ticks": ""
             }
            },
            "type": "scattergl"
           }
          ],
          "scattermapbox": [
           {
            "marker": {
             "colorbar": {
              "outlinewidth": 0,
              "ticks": ""
             }
            },
            "type": "scattermapbox"
           }
          ],
          "scatterpolar": [
           {
            "marker": {
             "colorbar": {
              "outlinewidth": 0,
              "ticks": ""
             }
            },
            "type": "scatterpolar"
           }
          ],
          "scatterpolargl": [
           {
            "marker": {
             "colorbar": {
              "outlinewidth": 0,
              "ticks": ""
             }
            },
            "type": "scatterpolargl"
           }
          ],
          "scatterternary": [
           {
            "marker": {
             "colorbar": {
              "outlinewidth": 0,
              "ticks": ""
             }
            },
            "type": "scatterternary"
           }
          ],
          "surface": [
           {
            "colorbar": {
             "outlinewidth": 0,
             "ticks": ""
            },
            "colorscale": [
             [
              0,
              "#0d0887"
             ],
             [
              0.1111111111111111,
              "#46039f"
             ],
             [
              0.2222222222222222,
              "#7201a8"
             ],
             [
              0.3333333333333333,
              "#9c179e"
             ],
             [
              0.4444444444444444,
              "#bd3786"
             ],
             [
              0.5555555555555556,
              "#d8576b"
             ],
             [
              0.6666666666666666,
              "#ed7953"
             ],
             [
              0.7777777777777778,
              "#fb9f3a"
             ],
             [
              0.8888888888888888,
              "#fdca26"
             ],
             [
              1,
              "#f0f921"
             ]
            ],
            "type": "surface"
           }
          ],
          "table": [
           {
            "cells": {
             "fill": {
              "color": "#EBF0F8"
             },
             "line": {
              "color": "white"
             }
            },
            "header": {
             "fill": {
              "color": "#C8D4E3"
             },
             "line": {
              "color": "white"
             }
            },
            "type": "table"
           }
          ]
         },
         "layout": {
          "annotationdefaults": {
           "arrowcolor": "#2a3f5f",
           "arrowhead": 0,
           "arrowwidth": 1
          },
          "coloraxis": {
           "colorbar": {
            "outlinewidth": 0,
            "ticks": ""
           }
          },
          "colorscale": {
           "diverging": [
            [
             0,
             "#8e0152"
            ],
            [
             0.1,
             "#c51b7d"
            ],
            [
             0.2,
             "#de77ae"
            ],
            [
             0.3,
             "#f1b6da"
            ],
            [
             0.4,
             "#fde0ef"
            ],
            [
             0.5,
             "#f7f7f7"
            ],
            [
             0.6,
             "#e6f5d0"
            ],
            [
             0.7,
             "#b8e186"
            ],
            [
             0.8,
             "#7fbc41"
            ],
            [
             0.9,
             "#4d9221"
            ],
            [
             1,
             "#276419"
            ]
           ],
           "sequential": [
            [
             0,
             "#0d0887"
            ],
            [
             0.1111111111111111,
             "#46039f"
            ],
            [
             0.2222222222222222,
             "#7201a8"
            ],
            [
             0.3333333333333333,
             "#9c179e"
            ],
            [
             0.4444444444444444,
             "#bd3786"
            ],
            [
             0.5555555555555556,
             "#d8576b"
            ],
            [
             0.6666666666666666,
             "#ed7953"
            ],
            [
             0.7777777777777778,
             "#fb9f3a"
            ],
            [
             0.8888888888888888,
             "#fdca26"
            ],
            [
             1,
             "#f0f921"
            ]
           ],
           "sequentialminus": [
            [
             0,
             "#0d0887"
            ],
            [
             0.1111111111111111,
             "#46039f"
            ],
            [
             0.2222222222222222,
             "#7201a8"
            ],
            [
             0.3333333333333333,
             "#9c179e"
            ],
            [
             0.4444444444444444,
             "#bd3786"
            ],
            [
             0.5555555555555556,
             "#d8576b"
            ],
            [
             0.6666666666666666,
             "#ed7953"
            ],
            [
             0.7777777777777778,
             "#fb9f3a"
            ],
            [
             0.8888888888888888,
             "#fdca26"
            ],
            [
             1,
             "#f0f921"
            ]
           ]
          },
          "colorway": [
           "#636efa",
           "#EF553B",
           "#00cc96",
           "#ab63fa",
           "#FFA15A",
           "#19d3f3",
           "#FF6692",
           "#B6E880",
           "#FF97FF",
           "#FECB52"
          ],
          "font": {
           "color": "#2a3f5f"
          },
          "geo": {
           "bgcolor": "white",
           "lakecolor": "white",
           "landcolor": "#E5ECF6",
           "showlakes": true,
           "showland": true,
           "subunitcolor": "white"
          },
          "hoverlabel": {
           "align": "left"
          },
          "hovermode": "closest",
          "mapbox": {
           "style": "light"
          },
          "paper_bgcolor": "white",
          "plot_bgcolor": "#E5ECF6",
          "polar": {
           "angularaxis": {
            "gridcolor": "white",
            "linecolor": "white",
            "ticks": ""
           },
           "bgcolor": "#E5ECF6",
           "radialaxis": {
            "gridcolor": "white",
            "linecolor": "white",
            "ticks": ""
           }
          },
          "scene": {
           "xaxis": {
            "backgroundcolor": "#E5ECF6",
            "gridcolor": "white",
            "gridwidth": 2,
            "linecolor": "white",
            "showbackground": true,
            "ticks": "",
            "zerolinecolor": "white"
           },
           "yaxis": {
            "backgroundcolor": "#E5ECF6",
            "gridcolor": "white",
            "gridwidth": 2,
            "linecolor": "white",
            "showbackground": true,
            "ticks": "",
            "zerolinecolor": "white"
           },
           "zaxis": {
            "backgroundcolor": "#E5ECF6",
            "gridcolor": "white",
            "gridwidth": 2,
            "linecolor": "white",
            "showbackground": true,
            "ticks": "",
            "zerolinecolor": "white"
           }
          },
          "shapedefaults": {
           "line": {
            "color": "#2a3f5f"
           }
          },
          "ternary": {
           "aaxis": {
            "gridcolor": "white",
            "linecolor": "white",
            "ticks": ""
           },
           "baxis": {
            "gridcolor": "white",
            "linecolor": "white",
            "ticks": ""
           },
           "bgcolor": "#E5ECF6",
           "caxis": {
            "gridcolor": "white",
            "linecolor": "white",
            "ticks": ""
           }
          },
          "title": {
           "x": 0.05
          },
          "xaxis": {
           "automargin": true,
           "gridcolor": "white",
           "linecolor": "white",
           "ticks": "",
           "title": {
            "standoff": 15
           },
           "zerolinecolor": "white",
           "zerolinewidth": 2
          },
          "yaxis": {
           "automargin": true,
           "gridcolor": "white",
           "linecolor": "white",
           "ticks": "",
           "title": {
            "standoff": 15
           },
           "zerolinecolor": "white",
           "zerolinewidth": 2
          }
         }
        }
       }
      },
      "text/html": [
       "<div>                            <div id=\"daafbe19-c90d-47cd-8df7-31622cf7652e\" class=\"plotly-graph-div\" style=\"height:525px; width:100%;\"></div>            <script type=\"text/javascript\">                require([\"plotly\"], function(Plotly) {                    window.PLOTLYENV=window.PLOTLYENV || {};                                    if (document.getElementById(\"daafbe19-c90d-47cd-8df7-31622cf7652e\")) {                    Plotly.newPlot(                        \"daafbe19-c90d-47cd-8df7-31622cf7652e\",                        [{\"hovertemplate\": \"Legend=usgs<br>size=%{marker.size}<br>lat=%{lat}<br>lon=%{lon}<extra></extra>\", \"lat\": [38.05222, 38.09333, 38.04953, 38.045, 38.10853], \"legendgroup\": \"usgs\", \"lon\": [-121.6878, -121.7361, -121.8876, -122.1256, -122.056], \"marker\": {\"color\": \"#636efa\", \"size\": [20, 20, 20, 20, 20], \"sizemode\": \"area\", \"sizeref\": 0.5555555555555556}, \"mode\": \"markers\", \"name\": \"usgs\", \"showlegend\": true, \"subplot\": \"mapbox\", \"type\": \"scattermapbox\"}, {\"hovertemplate\": \"Legend=plankton<br>size=%{marker.size}<br>lat=%{lat}<br>lon=%{lon}<extra></extra>\", \"lat\": [38.0603, 38.0292, 38.1172, 38.1703, 38.06, 38.0458, 38.0644, 38.0847, 38.0222, 38.0778, 37.9783, 38.0578, 38.0708, 38.0444, 38.0972, 38.0439, 37.9828, 38.0306, 38.0436, 38.1806], \"legendgroup\": \"plankton\", \"lon\": [-122.2069, -122.1583, -122.0472, -122.0208, -121.9958, -121.9064, -121.8289, -121.7381, -121.8036, -121.5703, -121.3819, -122.2889, -122.4111, -122.1167, -121.6667, -121.6136, -121.5772, -122.3708, -121.4264, -122.0472], \"marker\": {\"color\": \"#EF553B\", \"size\": [20, 20, 20, 20, 20, 20, 20, 20, 20, 20, 20, 20, 20, 20, 20, 20, 20, 20, 20, 20], \"sizemode\": \"area\", \"sizeref\": 0.5555555555555556}, \"mode\": \"markers\", \"name\": \"plankton\", \"showlegend\": true, \"subplot\": \"mapbox\", \"type\": \"scattermapbox\"}],                        {\"autosize\": true, \"legend\": {\"itemsizing\": \"constant\", \"title\": {\"text\": \"Legend\"}, \"tracegroupgap\": 0}, \"mapbox\": {\"accesstoken\": \"pk.eyJ1IjoicmxldzYzMSIsImEiOiJja2ZpZjUwYnEwN2Y3MndxcDBtYTFmajlrIn0.i6Qgn9bwSfakc_TSm9TWHA\", \"center\": {\"lat\": 38.0644204, \"lon\": -121.90679600000001}, \"domain\": {\"x\": [0.0, 1.0], \"y\": [0.0, 1.0]}, \"zoom\": 7.8}, \"margin\": {\"t\": 60}, \"template\": {\"data\": {\"bar\": [{\"error_x\": {\"color\": \"#2a3f5f\"}, \"error_y\": {\"color\": \"#2a3f5f\"}, \"marker\": {\"line\": {\"color\": \"#E5ECF6\", \"width\": 0.5}}, \"type\": \"bar\"}], \"barpolar\": [{\"marker\": {\"line\": {\"color\": \"#E5ECF6\", \"width\": 0.5}}, \"type\": \"barpolar\"}], \"carpet\": [{\"aaxis\": {\"endlinecolor\": \"#2a3f5f\", \"gridcolor\": \"white\", \"linecolor\": \"white\", \"minorgridcolor\": \"white\", \"startlinecolor\": \"#2a3f5f\"}, \"baxis\": {\"endlinecolor\": \"#2a3f5f\", \"gridcolor\": \"white\", \"linecolor\": \"white\", \"minorgridcolor\": \"white\", \"startlinecolor\": \"#2a3f5f\"}, \"type\": \"carpet\"}], \"choropleth\": [{\"colorbar\": {\"outlinewidth\": 0, \"ticks\": \"\"}, \"type\": \"choropleth\"}], \"contour\": [{\"colorbar\": {\"outlinewidth\": 0, \"ticks\": \"\"}, \"colorscale\": [[0.0, \"#0d0887\"], [0.1111111111111111, \"#46039f\"], [0.2222222222222222, \"#7201a8\"], [0.3333333333333333, \"#9c179e\"], [0.4444444444444444, \"#bd3786\"], [0.5555555555555556, \"#d8576b\"], [0.6666666666666666, \"#ed7953\"], [0.7777777777777778, \"#fb9f3a\"], [0.8888888888888888, \"#fdca26\"], [1.0, \"#f0f921\"]], \"type\": \"contour\"}], \"contourcarpet\": [{\"colorbar\": {\"outlinewidth\": 0, \"ticks\": \"\"}, \"type\": \"contourcarpet\"}], \"heatmap\": [{\"colorbar\": {\"outlinewidth\": 0, \"ticks\": \"\"}, \"colorscale\": [[0.0, \"#0d0887\"], [0.1111111111111111, \"#46039f\"], [0.2222222222222222, \"#7201a8\"], [0.3333333333333333, \"#9c179e\"], [0.4444444444444444, \"#bd3786\"], [0.5555555555555556, \"#d8576b\"], [0.6666666666666666, \"#ed7953\"], [0.7777777777777778, \"#fb9f3a\"], [0.8888888888888888, \"#fdca26\"], [1.0, \"#f0f921\"]], \"type\": \"heatmap\"}], \"heatmapgl\": [{\"colorbar\": {\"outlinewidth\": 0, \"ticks\": \"\"}, \"colorscale\": [[0.0, \"#0d0887\"], [0.1111111111111111, \"#46039f\"], [0.2222222222222222, \"#7201a8\"], [0.3333333333333333, \"#9c179e\"], [0.4444444444444444, \"#bd3786\"], [0.5555555555555556, \"#d8576b\"], [0.6666666666666666, \"#ed7953\"], [0.7777777777777778, \"#fb9f3a\"], [0.8888888888888888, \"#fdca26\"], [1.0, \"#f0f921\"]], \"type\": \"heatmapgl\"}], \"histogram\": [{\"marker\": {\"colorbar\": {\"outlinewidth\": 0, \"ticks\": \"\"}}, \"type\": \"histogram\"}], \"histogram2d\": [{\"colorbar\": {\"outlinewidth\": 0, \"ticks\": \"\"}, \"colorscale\": [[0.0, \"#0d0887\"], [0.1111111111111111, \"#46039f\"], [0.2222222222222222, \"#7201a8\"], [0.3333333333333333, \"#9c179e\"], [0.4444444444444444, \"#bd3786\"], [0.5555555555555556, \"#d8576b\"], [0.6666666666666666, \"#ed7953\"], [0.7777777777777778, \"#fb9f3a\"], [0.8888888888888888, \"#fdca26\"], [1.0, \"#f0f921\"]], \"type\": \"histogram2d\"}], \"histogram2dcontour\": [{\"colorbar\": {\"outlinewidth\": 0, \"ticks\": \"\"}, \"colorscale\": [[0.0, \"#0d0887\"], [0.1111111111111111, \"#46039f\"], [0.2222222222222222, \"#7201a8\"], [0.3333333333333333, \"#9c179e\"], [0.4444444444444444, \"#bd3786\"], [0.5555555555555556, \"#d8576b\"], [0.6666666666666666, \"#ed7953\"], [0.7777777777777778, \"#fb9f3a\"], [0.8888888888888888, \"#fdca26\"], [1.0, \"#f0f921\"]], \"type\": \"histogram2dcontour\"}], \"mesh3d\": [{\"colorbar\": {\"outlinewidth\": 0, \"ticks\": \"\"}, \"type\": \"mesh3d\"}], \"parcoords\": [{\"line\": {\"colorbar\": {\"outlinewidth\": 0, \"ticks\": \"\"}}, \"type\": \"parcoords\"}], \"pie\": [{\"automargin\": true, \"type\": \"pie\"}], \"scatter\": [{\"marker\": {\"colorbar\": {\"outlinewidth\": 0, \"ticks\": \"\"}}, \"type\": \"scatter\"}], \"scatter3d\": [{\"line\": {\"colorbar\": {\"outlinewidth\": 0, \"ticks\": \"\"}}, \"marker\": {\"colorbar\": {\"outlinewidth\": 0, \"ticks\": \"\"}}, \"type\": \"scatter3d\"}], \"scattercarpet\": [{\"marker\": {\"colorbar\": {\"outlinewidth\": 0, \"ticks\": \"\"}}, \"type\": \"scattercarpet\"}], \"scattergeo\": [{\"marker\": {\"colorbar\": {\"outlinewidth\": 0, \"ticks\": \"\"}}, \"type\": \"scattergeo\"}], \"scattergl\": [{\"marker\": {\"colorbar\": {\"outlinewidth\": 0, \"ticks\": \"\"}}, \"type\": \"scattergl\"}], \"scattermapbox\": [{\"marker\": {\"colorbar\": {\"outlinewidth\": 0, \"ticks\": \"\"}}, \"type\": \"scattermapbox\"}], \"scatterpolar\": [{\"marker\": {\"colorbar\": {\"outlinewidth\": 0, \"ticks\": \"\"}}, \"type\": \"scatterpolar\"}], \"scatterpolargl\": [{\"marker\": {\"colorbar\": {\"outlinewidth\": 0, \"ticks\": \"\"}}, \"type\": \"scatterpolargl\"}], \"scatterternary\": [{\"marker\": {\"colorbar\": {\"outlinewidth\": 0, \"ticks\": \"\"}}, \"type\": \"scatterternary\"}], \"surface\": [{\"colorbar\": {\"outlinewidth\": 0, \"ticks\": \"\"}, \"colorscale\": [[0.0, \"#0d0887\"], [0.1111111111111111, \"#46039f\"], [0.2222222222222222, \"#7201a8\"], [0.3333333333333333, \"#9c179e\"], [0.4444444444444444, \"#bd3786\"], [0.5555555555555556, \"#d8576b\"], [0.6666666666666666, \"#ed7953\"], [0.7777777777777778, \"#fb9f3a\"], [0.8888888888888888, \"#fdca26\"], [1.0, \"#f0f921\"]], \"type\": \"surface\"}], \"table\": [{\"cells\": {\"fill\": {\"color\": \"#EBF0F8\"}, \"line\": {\"color\": \"white\"}}, \"header\": {\"fill\": {\"color\": \"#C8D4E3\"}, \"line\": {\"color\": \"white\"}}, \"type\": \"table\"}]}, \"layout\": {\"annotationdefaults\": {\"arrowcolor\": \"#2a3f5f\", \"arrowhead\": 0, \"arrowwidth\": 1}, \"coloraxis\": {\"colorbar\": {\"outlinewidth\": 0, \"ticks\": \"\"}}, \"colorscale\": {\"diverging\": [[0, \"#8e0152\"], [0.1, \"#c51b7d\"], [0.2, \"#de77ae\"], [0.3, \"#f1b6da\"], [0.4, \"#fde0ef\"], [0.5, \"#f7f7f7\"], [0.6, \"#e6f5d0\"], [0.7, \"#b8e186\"], [0.8, \"#7fbc41\"], [0.9, \"#4d9221\"], [1, \"#276419\"]], \"sequential\": [[0.0, \"#0d0887\"], [0.1111111111111111, \"#46039f\"], [0.2222222222222222, \"#7201a8\"], [0.3333333333333333, \"#9c179e\"], [0.4444444444444444, \"#bd3786\"], [0.5555555555555556, \"#d8576b\"], [0.6666666666666666, \"#ed7953\"], [0.7777777777777778, \"#fb9f3a\"], [0.8888888888888888, \"#fdca26\"], [1.0, \"#f0f921\"]], \"sequentialminus\": [[0.0, \"#0d0887\"], [0.1111111111111111, \"#46039f\"], [0.2222222222222222, \"#7201a8\"], [0.3333333333333333, \"#9c179e\"], [0.4444444444444444, \"#bd3786\"], [0.5555555555555556, \"#d8576b\"], [0.6666666666666666, \"#ed7953\"], [0.7777777777777778, \"#fb9f3a\"], [0.8888888888888888, \"#fdca26\"], [1.0, \"#f0f921\"]]}, \"colorway\": [\"#636efa\", \"#EF553B\", \"#00cc96\", \"#ab63fa\", \"#FFA15A\", \"#19d3f3\", \"#FF6692\", \"#B6E880\", \"#FF97FF\", \"#FECB52\"], \"font\": {\"color\": \"#2a3f5f\"}, \"geo\": {\"bgcolor\": \"white\", \"lakecolor\": \"white\", \"landcolor\": \"#E5ECF6\", \"showlakes\": true, \"showland\": true, \"subunitcolor\": \"white\"}, \"hoverlabel\": {\"align\": \"left\"}, \"hovermode\": \"closest\", \"mapbox\": {\"style\": \"light\"}, \"paper_bgcolor\": \"white\", \"plot_bgcolor\": \"#E5ECF6\", \"polar\": {\"angularaxis\": {\"gridcolor\": \"white\", \"linecolor\": \"white\", \"ticks\": \"\"}, \"bgcolor\": \"#E5ECF6\", \"radialaxis\": {\"gridcolor\": \"white\", \"linecolor\": \"white\", \"ticks\": \"\"}}, \"scene\": {\"xaxis\": {\"backgroundcolor\": \"#E5ECF6\", \"gridcolor\": \"white\", \"gridwidth\": 2, \"linecolor\": \"white\", \"showbackground\": true, \"ticks\": \"\", \"zerolinecolor\": \"white\"}, \"yaxis\": {\"backgroundcolor\": \"#E5ECF6\", \"gridcolor\": \"white\", \"gridwidth\": 2, \"linecolor\": \"white\", \"showbackground\": true, \"ticks\": \"\", \"zerolinecolor\": \"white\"}, \"zaxis\": {\"backgroundcolor\": \"#E5ECF6\", \"gridcolor\": \"white\", \"gridwidth\": 2, \"linecolor\": \"white\", \"showbackground\": true, \"ticks\": \"\", \"zerolinecolor\": \"white\"}}, \"shapedefaults\": {\"line\": {\"color\": \"#2a3f5f\"}}, \"ternary\": {\"aaxis\": {\"gridcolor\": \"white\", \"linecolor\": \"white\", \"ticks\": \"\"}, \"baxis\": {\"gridcolor\": \"white\", \"linecolor\": \"white\", \"ticks\": \"\"}, \"bgcolor\": \"#E5ECF6\", \"caxis\": {\"gridcolor\": \"white\", \"linecolor\": \"white\", \"ticks\": \"\"}}, \"title\": {\"x\": 0.05}, \"xaxis\": {\"automargin\": true, \"gridcolor\": \"white\", \"linecolor\": \"white\", \"ticks\": \"\", \"title\": {\"standoff\": 15}, \"zerolinecolor\": \"white\", \"zerolinewidth\": 2}, \"yaxis\": {\"automargin\": true, \"gridcolor\": \"white\", \"linecolor\": \"white\", \"ticks\": \"\", \"title\": {\"standoff\": 15}, \"zerolinecolor\": \"white\", \"zerolinewidth\": 2}}}},                        {\"responsive\": true}                    ).then(function(){\n",
       "                            \n",
       "var gd = document.getElementById('daafbe19-c90d-47cd-8df7-31622cf7652e');\n",
       "var x = new MutationObserver(function (mutations, observer) {{\n",
       "        var display = window.getComputedStyle(gd).display;\n",
       "        if (!display || display === 'none') {{\n",
       "            console.log([gd, 'removed!']);\n",
       "            Plotly.purge(gd);\n",
       "            observer.disconnect();\n",
       "        }}\n",
       "}});\n",
       "\n",
       "// Listen for the removal of the full notebook cells\n",
       "var notebookContainer = gd.closest('#notebook-container');\n",
       "if (notebookContainer) {{\n",
       "    x.observe(notebookContainer, {childList: true});\n",
       "}}\n",
       "\n",
       "// Listen for the clearing of the current output cell\n",
       "var outputEl = gd.closest('.output');\n",
       "if (outputEl) {{\n",
       "    x.observe(outputEl, {childList: true});\n",
       "}}\n",
       "\n",
       "                        })                };                });            </script>        </div>"
      ]
     },
     "metadata": {},
     "output_type": "display_data"
    }
   ],
   "source": [
    "px.set_mapbox_access_token(\"pk.eyJ1IjoicmxldzYzMSIsImEiOiJja2ZpZjUwYnEwN2Y3MndxcDBtYTFmajlrIn0.i6Qgn9bwSfakc_TSm9TWHA\")\n",
    "\n",
    "fig = px.scatter_mapbox(df[:-5],\n",
    "                        lat=\"lat\",\n",
    "                        lon=\"lon\",\n",
    "                        color=\"Legend\",\n",
    "                        #size='number_of_returns_charitable_contribution',\n",
    "                        #color_continuous_scale=px.colors.cyclical.IceFire,\n",
    "                        size_max=6,\n",
    "                        size = 'size',\n",
    "                        labels='Location',\n",
    "                        zoom=7.8)\n",
    "fig.update_layout(\n",
    "    autosize=True)\n",
    "fig.write_html(\"Stations_data.html\")\n",
    "fig.show()"
   ]
  },
  {
   "cell_type": "code",
   "execution_count": null,
   "metadata": {},
   "outputs": [],
   "source": []
  }
 ],
 "metadata": {
  "kernelspec": {
   "display_name": "Python 3",
   "language": "python",
   "name": "python3"
  },
  "language_info": {
   "codemirror_mode": {
    "name": "ipython",
    "version": 3
   },
   "file_extension": ".py",
   "mimetype": "text/x-python",
   "name": "python",
   "nbconvert_exporter": "python",
   "pygments_lexer": "ipython3",
   "version": "3.7.9"
  }
 },
 "nbformat": 4,
 "nbformat_minor": 4
}
