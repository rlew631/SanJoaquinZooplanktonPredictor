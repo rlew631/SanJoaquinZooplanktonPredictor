{
 "cells": [
  {
   "cell_type": "code",
   "execution_count": 1,
   "metadata": {},
   "outputs": [],
   "source": [
    "import plotly.graph_objs as go\n",
    "from plotly.offline import iplot"
   ]
  },
  {
   "cell_type": "code",
   "execution_count": 2,
   "metadata": {},
   "outputs": [],
   "source": [
    "now = []\n",
    "for i in range(5):\n",
    "    now.append(2020)\n",
    "    \n",
    "#station 1, station 2, station 3, station 4, station 5    \n",
    "start_dates = [\n",
    "            [2009,2010,2017,1997,2017],# Temperature\n",
    "            [2009,2010,2017,1997,2017],# Specific conductance\n",
    "            [2014,2017,2017,2020,2017],# Dissolved oxygen\n",
    "            [2017,2017,2017,2020,2017],# PH\n",
    "            [2017,2017,2017,2020,2017],# Salinity\n",
    "            [2017,2017,2017,2020,2017],# fDOM\n",
    "            [2017,2017,2017,2020,2017],# fCholorphyll\n",
    "            [2017,2017,2017,2020,2017]# Nitrates and Nitrites\n",
    "           ]"
   ]
  },
  {
   "cell_type": "code",
   "execution_count": 11,
   "metadata": {},
   "outputs": [],
   "source": [
    "#branches = ['11337190', '11455478', '11455508', '11455780', '380631122032201']\n",
    "branches = ['station1','station2','station3','station4','station5']\n",
    "trace1 = go.Bar(\n",
    "   x = now,\n",
    "   y = branches,\n",
    "   base = start_dates[0],\n",
    "   name = 'Temperature (C)',\n",
    "   orientation='h'\n",
    ")\n",
    "trace2 = go.Bar(\n",
    "   x = now,\n",
    "   y = branches,\n",
    "   base = start_dates[1],\n",
    "   name = 'Specific Conductance',\n",
    "   orientation='h'\n",
    ")\n",
    "trace3 = go.Bar(\n",
    "   x = now,\n",
    "   y = branches,\n",
    "   base = start_dates[2],\n",
    "   name = 'Dissolved Oxygen',\n",
    "   orientation='h'\n",
    ")\n",
    "trace4 = go.Bar(\n",
    "   x = now,\n",
    "   y = branches,\n",
    "   base = start_dates[3],\n",
    "   name = 'PH',\n",
    "   orientation='h'\n",
    ")\n",
    "trace5 = go.Bar(\n",
    "   x = now,\n",
    "   y = branches,\n",
    "   base = start_dates[4],\n",
    "   name = 'Salinity',\n",
    "   orientation='h'\n",
    ")\n",
    "trace6 = go.Bar(\n",
    "   x = now,\n",
    "   y = branches,\n",
    "   base = start_dates[5],\n",
    "   name = 'fDOM',\n",
    "   orientation='h'\n",
    ")\n",
    "trace7 = go.Bar(\n",
    "   x = now,\n",
    "   y = branches,\n",
    "   base = start_dates[6],\n",
    "   name = 'fCholorphyll',\n",
    "   orientation='h'\n",
    ")\n",
    "trace8 = go.Bar(\n",
    "   x = now,\n",
    "   y = branches,\n",
    "   base = start_dates[7],\n",
    "   name = 'NO2 and NO3',\n",
    "   orientation='h'\n",
    ")\n",
    "data = [trace1, trace2, trace3, trace4, trace5, trace6, trace7, trace8]\n",
    "layout = go.Layout(barmode = 'group',\n",
    "                   xaxis=dict(range=[2009,2020]),\n",
    "                   title = 'Available Data',\n",
    "                   legend_title = 'Metrics',\n",
    "                   font=dict(\n",
    "                    family=\"Arial, monospace\",\n",
    "                    size=18\n",
    "                    #color=\"RebeccaPurple\"\n",
    "                    ))\n",
    "fig = go.Figure(data = data, layout = layout)"
   ]
  },
  {
   "cell_type": "code",
   "execution_count": null,
   "metadata": {},
   "outputs": [],
   "source": [
    "fig.write_image(\"timeline.png\")"
   ]
  }
 ],
 "metadata": {
  "kernelspec": {
   "display_name": "Python 3",
   "language": "python",
   "name": "python3"
  },
  "language_info": {
   "codemirror_mode": {
    "name": "ipython",
    "version": 3
   },
   "file_extension": ".py",
   "mimetype": "text/x-python",
   "name": "python",
   "nbconvert_exporter": "python",
   "pygments_lexer": "ipython3",
   "version": "3.8.5"
  }
 },
 "nbformat": 4,
 "nbformat_minor": 4
}
