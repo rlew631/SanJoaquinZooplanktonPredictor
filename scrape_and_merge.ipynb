{
 "cells": [
  {
   "cell_type": "code",
   "execution_count": 1,
   "metadata": {},
   "outputs": [],
   "source": [
    "from datetime import datetime\n",
    "from datetime import timedelta\n",
    "from dateutil.relativedelta import relativedelta\n",
    "import usgs_scraper import scrape"
   ]
  },
  {
   "cell_type": "code",
   "execution_count": 2,
   "metadata": {},
   "outputs": [],
   "source": [
    "begin_date = datetime.strptime('2017-10-03', '%Y-%m-%d')\n",
    "end_date = datetime.strptime('2018-07-06', '%Y-%m-%d')"
   ]
  },
  {
   "cell_type": "code",
   "execution_count": null,
   "metadata": {},
   "outputs": [],
   "source": [
    "increment = timedelta(days=7)\n",
    "first_date = begin_date-increment\n",
    "second_date = first_date + increment\n",
    "\n",
    "while second_date <= end_date:\n",
    "    first_date += increment\n",
    "    second_date = first_date + increment - timedelta(days=1) #prevent overlap\n",
    "    first_str = str(first_date)[:10]\n",
    "    second_str = str(second_date)[:10]\n",
    "    scrape(first_str,second_str)\n",
    "    #print(f'the first date is {str(first_date)} and the second date is {str(second_date)}')"
   ]
  }
 ],
 "metadata": {
  "kernelspec": {
   "display_name": "Python 3",
   "language": "python",
   "name": "python3"
  },
  "language_info": {
   "codemirror_mode": {
    "name": "ipython",
    "version": 3
   },
   "file_extension": ".py",
   "mimetype": "text/x-python",
   "name": "python",
   "nbconvert_exporter": "python",
   "pygments_lexer": "ipython3",
   "version": "3.8.2"
  }
 },
 "nbformat": 4,
 "nbformat_minor": 4
}
