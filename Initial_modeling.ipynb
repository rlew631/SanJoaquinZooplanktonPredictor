{
 "cells": [
  {
   "cell_type": "markdown",
   "metadata": {},
   "source": [
    "~~as of 10/5/2020 this notebook should be run after running EDA and the merged_df.p file should be imported~~\n",
    "# Initial Modeling\n",
    "\n",
    "This notebook was used to determine whether or not there was a correlation between water quality conditions and the presence of zooplankton in the California wildlife zooplankton surveys. It was done using 25 samples as part of the EDA process and is not necessary to produce the final linear regression models."
   ]
  },
  {
   "cell_type": "code",
   "execution_count": 29,
   "metadata": {},
   "outputs": [],
   "source": [
    "import pickle\n",
    "import numpy as np\n",
    "import pandas as pd\n",
    "from sklearn.linear_model import LinearRegression, Lasso\n",
    "from sklearn.pipeline import Pipeline\n",
    "from sklearn.preprocessing import StandardScaler\n",
    "from sklearn.metrics import r2_score"
   ]
  },
  {
   "cell_type": "code",
   "execution_count": 5,
   "metadata": {},
   "outputs": [],
   "source": [
    "df = pickle.load( open( \"merged_df.p\", \"rb\" ) )"
   ]
  },
  {
   "cell_type": "code",
   "execution_count": 6,
   "metadata": {},
   "outputs": [
    {
     "data": {
      "text/plain": [
       "Index(['11_day_temp_c', '11_day_specific_conductance', '11_day_ph',\n",
       "       '11_day_dissolved_o2_mg_l', '11_day_turbidity',\n",
       "       '11_day_nitrate_nitrite', '11_day_organic_matter', '11_day_salinity',\n",
       "       '11_day_dissolved_o2_percent_sat', 'sqr_11_day_temp_c',\n",
       "       'sqr_11_day_specific_conductance', 'sqr_11_day_ph',\n",
       "       'sqr_11_day_dissolved_o2_mg_l', 'sqr_11_day_turbidity',\n",
       "       'sqr_11_day_nitrate_nitrite', 'sqr_11_day_organic_matter',\n",
       "       'sqr_11_day_salinity', 'sqr_11_day_dissolved_o2_percent_sat',\n",
       "       'Sum all Pseudodiaptomus Adult', 'Sum all Calanoid Copepodids (juv)',\n",
       "       'Sum all Cyclopoid Copepodids (juv)', 'Sum all Copepod Nauplii',\n",
       "       'Sum all Limnoithona Adult', 'Sum all Tortanus Adult',\n",
       "       'Sum all Rotifers'],\n",
       "      dtype='object')"
      ]
     },
     "execution_count": 6,
     "metadata": {},
     "output_type": "execute_result"
    }
   ],
   "source": [
    "df.columns"
   ]
  },
  {
   "cell_type": "markdown",
   "metadata": {},
   "source": [
    "going off of the heatmap from the EDA I can ditch 11_day_dissolved_o2_percent_sat and sqr_11_day_dissolved_o2_percent_sat"
   ]
  },
  {
   "cell_type": "code",
   "execution_count": 7,
   "metadata": {},
   "outputs": [],
   "source": [
    "df.drop(columns = ['11_day_dissolved_o2_percent_sat','sqr_11_day_dissolved_o2_percent_sat'], inplace = True)"
   ]
  },
  {
   "cell_type": "code",
   "execution_count": 8,
   "metadata": {},
   "outputs": [
    {
     "data": {
      "text/plain": [
       "Index(['11_day_temp_c', '11_day_specific_conductance', '11_day_ph',\n",
       "       '11_day_dissolved_o2_mg_l', '11_day_turbidity',\n",
       "       '11_day_nitrate_nitrite', '11_day_organic_matter', '11_day_salinity',\n",
       "       'sqr_11_day_temp_c', 'sqr_11_day_specific_conductance', 'sqr_11_day_ph',\n",
       "       'sqr_11_day_dissolved_o2_mg_l', 'sqr_11_day_turbidity',\n",
       "       'sqr_11_day_nitrate_nitrite', 'sqr_11_day_organic_matter',\n",
       "       'sqr_11_day_salinity', 'Sum all Pseudodiaptomus Adult',\n",
       "       'Sum all Calanoid Copepodids (juv)',\n",
       "       'Sum all Cyclopoid Copepodids (juv)', 'Sum all Copepod Nauplii',\n",
       "       'Sum all Limnoithona Adult', 'Sum all Tortanus Adult',\n",
       "       'Sum all Rotifers'],\n",
       "      dtype='object')"
      ]
     },
     "execution_count": 8,
     "metadata": {},
     "output_type": "execute_result"
    }
   ],
   "source": [
    "df.columns"
   ]
  },
  {
   "cell_type": "code",
   "execution_count": 9,
   "metadata": {},
   "outputs": [],
   "source": [
    "x = df[['11_day_temp_c', '11_day_specific_conductance', '11_day_ph',\n",
    "       '11_day_dissolved_o2_mg_l', '11_day_turbidity',\n",
    "       '11_day_nitrate_nitrite', '11_day_organic_matter', '11_day_salinity',\n",
    "       'sqr_11_day_temp_c', 'sqr_11_day_specific_conductance', 'sqr_11_day_ph',\n",
    "       'sqr_11_day_dissolved_o2_mg_l', 'sqr_11_day_turbidity',\n",
    "       'sqr_11_day_nitrate_nitrite', 'sqr_11_day_organic_matter',\n",
    "       'sqr_11_day_salinity']]\n",
    "y = df[['Sum all Pseudodiaptomus Adult',\n",
    "       'Sum all Calanoid Copepodids (juv)',\n",
    "       'Sum all Cyclopoid Copepodids (juv)', 'Sum all Copepod Nauplii',\n",
    "       'Sum all Limnoithona Adult', 'Sum all Tortanus Adult',\n",
    "       'Sum all Rotifers']]"
   ]
  },
  {
   "cell_type": "markdown",
   "metadata": {},
   "source": [
    "Now that it's broken up do a linear regression using lasso or ridge. Try with the different alpha values and get the coefficients. After that put together a formula that says what the gaussian distribution function is for each of the features and the formula that shows the prediction for each of the fishes"
   ]
  },
  {
   "cell_type": "code",
   "execution_count": 12,
   "metadata": {},
   "outputs": [
    {
     "data": {
      "text/plain": [
       "LinearRegression()"
      ]
     },
     "execution_count": 12,
     "metadata": {},
     "output_type": "execute_result"
    }
   ],
   "source": [
    "model = LinearRegression(fit_intercept=True)\n",
    "model.fit(x[['11_day_temp_c',\n",
    "              '11_day_specific_conductance',\n",
    "              '11_day_ph',\n",
    "              '11_day_dissolved_o2_mg_l',\n",
    "              '11_day_turbidity',\n",
    "              '11_day_nitrate_nitrite',\n",
    "              '11_day_organic_matter',\n",
    "              '11_day_salinity']],\n",
    "          y['Sum all Pseudodiaptomus Adult'])\n",
    "            "
   ]
  },
  {
   "cell_type": "code",
   "execution_count": 14,
   "metadata": {},
   "outputs": [
    {
     "data": {
      "text/plain": [
       "[('11_day_temp_c', -32.373211668209244),\n",
       " ('11_day_specific_conductance', -16.29401254744564),\n",
       " ('11_day_ph', 2183.9872467072023),\n",
       " ('11_day_dissolved_o2_mg_l', -110.76274631001881),\n",
       " ('11_day_turbidity', 349.4723275546191),\n",
       " ('11_day_nitrate_nitrite', 23562.55290747747),\n",
       " ('11_day_organic_matter', -238.47594609101702),\n",
       " ('11_day_salinity', -16242.974644808735)]"
      ]
     },
     "execution_count": 14,
     "metadata": {},
     "output_type": "execute_result"
    }
   ],
   "source": [
    "list(zip(['11_day_temp_c', '11_day_specific_conductance', '11_day_ph',\n",
    "       '11_day_dissolved_o2_mg_l', '11_day_turbidity',\n",
    "       '11_day_nitrate_nitrite', '11_day_organic_matter', '11_day_salinity'], model.coef_))"
   ]
  },
  {
   "cell_type": "code",
   "execution_count": 24,
   "metadata": {},
   "outputs": [],
   "source": [
    "# alphalist = 10**(np.linspace(-10,10,1000))\n",
    "# err_vec_val = np.zeros(len(alphalist))\n",
    "# err_vec_train = np.zeros(len(alphalist))\n",
    "\n",
    "#Mean Absolute Error (MAE)\n",
    "def mae(y_true, y_pred):\n",
    "    return np.mean(np.abs(y_pred - y_true)) \n",
    "\n",
    "# for i,curr_alpha in enumerate(alphalist):\n",
    "\n",
    "#     # note the use of a new sklearn utility: Pipeline to pack\n",
    "#     # multiple modeling steps into one fitting process \n",
    "#     steps = [('standardize', StandardScaler()), \n",
    "#              ('lasso', Lasso(alpha = curr_alpha))]\n",
    "\n",
    "#     pipe = Pipeline(steps)\n",
    "#     pipe.fit(x[['11_day_temp_c',\n",
    "#               '11_day_specific_conductance',\n",
    "#               '11_day_ph',\n",
    "#               '11_day_dissolved_o2_mg_l',\n",
    "#               '11_day_turbidity',\n",
    "#               '11_day_nitrate_nitrite',\n",
    "#               '11_day_organic_matter',\n",
    "#               '11_day_salinity']],\n",
    "#           y['Sum all Pseudodiaptomus Adult'])\n",
    "    \n",
    "#     val_set_pred = pipe.predict(x[['11_day_temp_c',\n",
    "#               '11_day_specific_conductance',\n",
    "#               '11_day_ph',\n",
    "#               '11_day_dissolved_o2_mg_l',\n",
    "#               '11_day_turbidity',\n",
    "#               '11_day_nitrate_nitrite',\n",
    "#               '11_day_organic_matter',\n",
    "#               '11_day_salinity']].values)\n",
    "#     err_vec_val[i] = mae(y['Sum all Pseudodiaptomus Adult'], val_set_pred)"
   ]
  },
  {
   "cell_type": "code",
   "execution_count": 26,
   "metadata": {},
   "outputs": [],
   "source": [
    "test_set_pred = model.predict(x[['11_day_temp_c',\n",
    "              '11_day_specific_conductance',\n",
    "              '11_day_ph',\n",
    "              '11_day_dissolved_o2_mg_l',\n",
    "              '11_day_turbidity',\n",
    "              '11_day_nitrate_nitrite',\n",
    "              '11_day_organic_matter',\n",
    "              '11_day_salinity']])"
   ]
  },
  {
   "cell_type": "code",
   "execution_count": 28,
   "metadata": {},
   "outputs": [
    {
     "data": {
      "text/plain": [
       "260.94903907666895"
      ]
     },
     "execution_count": 28,
     "metadata": {},
     "output_type": "execute_result"
    }
   ],
   "source": [
    "mae(y['Sum all Pseudodiaptomus Adult'], test_set_pred)"
   ]
  },
  {
   "cell_type": "code",
   "execution_count": null,
   "metadata": {},
   "outputs": [],
   "source": []
  },
  {
   "cell_type": "code",
   "execution_count": 31,
   "metadata": {},
   "outputs": [
    {
     "data": {
      "text/plain": [
       "0.7995732575491653"
      ]
     },
     "execution_count": 31,
     "metadata": {},
     "output_type": "execute_result"
    }
   ],
   "source": [
    "r2_score(y['Sum all Pseudodiaptomus Adult'], test_set_pred)"
   ]
  },
  {
   "cell_type": "code",
   "execution_count": null,
   "metadata": {},
   "outputs": [],
   "source": []
  }
 ],
 "metadata": {
  "kernelspec": {
   "display_name": "Python 3",
   "language": "python",
   "name": "python3"
  },
  "language_info": {
   "codemirror_mode": {
    "name": "ipython",
    "version": 3
   },
   "file_extension": ".py",
   "mimetype": "text/x-python",
   "name": "python",
   "nbconvert_exporter": "python",
   "pygments_lexer": "ipython3",
   "version": "3.8.2"
  }
 },
 "nbformat": 4,
 "nbformat_minor": 4
}