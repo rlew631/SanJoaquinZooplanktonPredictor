{
 "cells": [
  {
   "cell_type": "code",
   "execution_count": 2,
   "metadata": {},
   "outputs": [],
   "source": [
    "from datetime import datetime\n",
    "import pandas as pd\n",
    "import seaborn as sns\n",
    "import matplotlib.pyplot as plt\n",
    "import math"
   ]
  },
  {
   "cell_type": "code",
   "execution_count": 124,
   "metadata": {},
   "outputs": [],
   "source": [
    "def gauss_dist(length : int):\n",
    "    '''\n",
    "    Put in an integer and get out an array of that length.\n",
    "    The values in the array correspond to a gaussian distribution.\n",
    "    The middle value of the list is the peak of the distribution.\n",
    "    The values have been normalized so that the sum of the entries = 1.\n",
    "    '''\n",
    "    \n",
    "    #length = 11\n",
    "    # must be odd numbered to have single peak value\n",
    "    mean = (length-1)/2\n",
    "    std_dev = (length-1)/5\n",
    "\n",
    "    dist = []\n",
    "    #y = math.e**(-0.5*(x-mean)**2/(std_dev**2))/(std_dev*math.sqrt(2*math.pi))\n",
    "    for i in range(length):\n",
    "        dist.append(\n",
    "            math.e**(-0.5*(i-mean)**2/(std_dev**2))/\n",
    "            (std_dev*math.sqrt(2*math.pi))\n",
    "        )\n",
    "    initial_sum = sum(dist)\n",
    "    dist = [entry/initial_sum for entry in dist] \n",
    "    #sum(dist) should be equal to one\n",
    "    return dist"
   ]
  },
  {
   "cell_type": "code",
   "execution_count": 125,
   "metadata": {},
   "outputs": [
    {
     "data": {
      "text/plain": [
       "<AxesSubplot:>"
      ]
     },
     "execution_count": 125,
     "metadata": {},
     "output_type": "execute_result"
    },
    {
     "data": {
      "image/png": "[encoded data removed]",
      "text/plain": [
       "<Figure size 432x288 with 1 Axes>"
      ]
     },
     "metadata": {
      "needs_background": "light"
     },
     "output_type": "display_data"
    }
   ],
   "source": [
    "g_dist = gauss_dist(13)\n",
    "plt.ylim(0, max(g_dist)*1.25)\n",
    "sns.scatterplot(range(len(g_dist)), g_dist)"
   ]
  },
  {
   "cell_type": "code",
   "execution_count": null,
   "metadata": {},
   "outputs": [],
   "source": []
  },
  {
   "cell_type": "code",
   "execution_count": null,
   "metadata": {},
   "outputs": [],
   "source": []
  }
 ],
 "metadata": {
  "kernelspec": {
   "display_name": "Python 3",
   "language": "python",
   "name": "python3"
  },
  "language_info": {
   "codemirror_mode": {
    "name": "ipython",
    "version": 3
   },
   "file_extension": ".py",
   "mimetype": "text/x-python",
   "name": "python",
   "nbconvert_exporter": "python",
   "pygments_lexer": "ipython3",
   "version": "3.8.2"
  }
 },
 "nbformat": 4,
 "nbformat_minor": 4
}
